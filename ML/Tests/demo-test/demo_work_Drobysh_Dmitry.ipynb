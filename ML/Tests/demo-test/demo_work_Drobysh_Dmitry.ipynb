{
  "nbformat": 4,
  "nbformat_minor": 0,
  "metadata": {
    "colab": {
      "provenance": []
    },
    "kernelspec": {
      "name": "python3",
      "display_name": "Python 3"
    },
    "language_info": {
      "name": "python"
    }
  },
  "cells": [
    {
      "cell_type": "markdown",
      "source": [
        "###Разбор тестового варинта КР"
      ],
      "metadata": {
        "id": "brR54XbQuDXP"
      }
    },
    {
      "cell_type": "code",
      "source": [
        "import pandas as pd\n"
      ],
      "metadata": {
        "id": "gByvv2n9uTFv"
      },
      "execution_count": 3,
      "outputs": []
    },
    {
      "cell_type": "markdown",
      "source": [
        "Считываем данные: "
      ],
      "metadata": {
        "id": "zdw9UFtdyMFx"
      }
    },
    {
      "cell_type": "code",
      "source": [
        "data_frame = pd.read_csv(\"/content/pulsar_stars.csv\")\n",
        "data_frame\n"
      ],
      "metadata": {
        "id": "gVY2K1MvuFme",
        "colab": {
          "base_uri": "https://localhost:8080/",
          "height": 419
        },
        "outputId": "5ed2780e-9d93-4f06-ceb5-9bb57ce7de4a"
      },
      "execution_count": 7,
      "outputs": [
        {
          "output_type": "execute_result",
          "data": {
            "text/plain": [
              "              mip      stdip      ekip       sip         mc       stdc  \\\n",
              "0      137.218750  45.390655  0.034985  0.134409   3.204013  17.177857   \n",
              "1       93.773438  41.883062  0.371402  1.291232   1.482441  12.959050   \n",
              "2       73.632812  35.461218  1.153607  4.161082   2.099498  13.057474   \n",
              "3       93.429688  39.883166  0.602060  1.518548   2.475753  14.146578   \n",
              "4      131.625000  44.111896  0.108905  0.239879  33.888796  70.398342   \n",
              "...           ...        ...       ...       ...        ...        ...   \n",
              "17893  121.117188  50.127279 -0.017936 -0.193900   1.566890  10.804730   \n",
              "17894  120.679688  40.918542  0.291465  0.627087   1.473244  13.912476   \n",
              "17895  138.101562  47.935314 -0.181827 -0.283746   3.270903  16.963817   \n",
              "17896  119.523438  44.198410  0.026662  0.352641   1.828595  12.674068   \n",
              "17897  154.875000  48.590766 -0.285643  0.129281   4.153010  21.971915   \n",
              "\n",
              "             ekc          sc  target  \n",
              "0       7.494588   74.003104       0  \n",
              "1      12.242911  180.158844       0  \n",
              "2      10.013591  140.894151       0  \n",
              "3       8.770640  107.970173       0  \n",
              "4       1.689460    1.031847       0  \n",
              "...          ...         ...     ...  \n",
              "17893  13.737064  269.096109       0  \n",
              "17894  13.144044  203.416941       0  \n",
              "17895   6.988850   63.043499       0  \n",
              "17896  11.153939  166.582439       0  \n",
              "17897   6.746838   52.230021       0  \n",
              "\n",
              "[17898 rows x 9 columns]"
            ],
            "text/html": [
              "\n",
              "  <div id=\"df-54a88eda-6c82-4d82-9cc3-b9b8e90d6755\">\n",
              "    <div class=\"colab-df-container\">\n",
              "      <div>\n",
              "<style scoped>\n",
              "    .dataframe tbody tr th:only-of-type {\n",
              "        vertical-align: middle;\n",
              "    }\n",
              "\n",
              "    .dataframe tbody tr th {\n",
              "        vertical-align: top;\n",
              "    }\n",
              "\n",
              "    .dataframe thead th {\n",
              "        text-align: right;\n",
              "    }\n",
              "</style>\n",
              "<table border=\"1\" class=\"dataframe\">\n",
              "  <thead>\n",
              "    <tr style=\"text-align: right;\">\n",
              "      <th></th>\n",
              "      <th>mip</th>\n",
              "      <th>stdip</th>\n",
              "      <th>ekip</th>\n",
              "      <th>sip</th>\n",
              "      <th>mc</th>\n",
              "      <th>stdc</th>\n",
              "      <th>ekc</th>\n",
              "      <th>sc</th>\n",
              "      <th>target</th>\n",
              "    </tr>\n",
              "  </thead>\n",
              "  <tbody>\n",
              "    <tr>\n",
              "      <th>0</th>\n",
              "      <td>137.218750</td>\n",
              "      <td>45.390655</td>\n",
              "      <td>0.034985</td>\n",
              "      <td>0.134409</td>\n",
              "      <td>3.204013</td>\n",
              "      <td>17.177857</td>\n",
              "      <td>7.494588</td>\n",
              "      <td>74.003104</td>\n",
              "      <td>0</td>\n",
              "    </tr>\n",
              "    <tr>\n",
              "      <th>1</th>\n",
              "      <td>93.773438</td>\n",
              "      <td>41.883062</td>\n",
              "      <td>0.371402</td>\n",
              "      <td>1.291232</td>\n",
              "      <td>1.482441</td>\n",
              "      <td>12.959050</td>\n",
              "      <td>12.242911</td>\n",
              "      <td>180.158844</td>\n",
              "      <td>0</td>\n",
              "    </tr>\n",
              "    <tr>\n",
              "      <th>2</th>\n",
              "      <td>73.632812</td>\n",
              "      <td>35.461218</td>\n",
              "      <td>1.153607</td>\n",
              "      <td>4.161082</td>\n",
              "      <td>2.099498</td>\n",
              "      <td>13.057474</td>\n",
              "      <td>10.013591</td>\n",
              "      <td>140.894151</td>\n",
              "      <td>0</td>\n",
              "    </tr>\n",
              "    <tr>\n",
              "      <th>3</th>\n",
              "      <td>93.429688</td>\n",
              "      <td>39.883166</td>\n",
              "      <td>0.602060</td>\n",
              "      <td>1.518548</td>\n",
              "      <td>2.475753</td>\n",
              "      <td>14.146578</td>\n",
              "      <td>8.770640</td>\n",
              "      <td>107.970173</td>\n",
              "      <td>0</td>\n",
              "    </tr>\n",
              "    <tr>\n",
              "      <th>4</th>\n",
              "      <td>131.625000</td>\n",
              "      <td>44.111896</td>\n",
              "      <td>0.108905</td>\n",
              "      <td>0.239879</td>\n",
              "      <td>33.888796</td>\n",
              "      <td>70.398342</td>\n",
              "      <td>1.689460</td>\n",
              "      <td>1.031847</td>\n",
              "      <td>0</td>\n",
              "    </tr>\n",
              "    <tr>\n",
              "      <th>...</th>\n",
              "      <td>...</td>\n",
              "      <td>...</td>\n",
              "      <td>...</td>\n",
              "      <td>...</td>\n",
              "      <td>...</td>\n",
              "      <td>...</td>\n",
              "      <td>...</td>\n",
              "      <td>...</td>\n",
              "      <td>...</td>\n",
              "    </tr>\n",
              "    <tr>\n",
              "      <th>17893</th>\n",
              "      <td>121.117188</td>\n",
              "      <td>50.127279</td>\n",
              "      <td>-0.017936</td>\n",
              "      <td>-0.193900</td>\n",
              "      <td>1.566890</td>\n",
              "      <td>10.804730</td>\n",
              "      <td>13.737064</td>\n",
              "      <td>269.096109</td>\n",
              "      <td>0</td>\n",
              "    </tr>\n",
              "    <tr>\n",
              "      <th>17894</th>\n",
              "      <td>120.679688</td>\n",
              "      <td>40.918542</td>\n",
              "      <td>0.291465</td>\n",
              "      <td>0.627087</td>\n",
              "      <td>1.473244</td>\n",
              "      <td>13.912476</td>\n",
              "      <td>13.144044</td>\n",
              "      <td>203.416941</td>\n",
              "      <td>0</td>\n",
              "    </tr>\n",
              "    <tr>\n",
              "      <th>17895</th>\n",
              "      <td>138.101562</td>\n",
              "      <td>47.935314</td>\n",
              "      <td>-0.181827</td>\n",
              "      <td>-0.283746</td>\n",
              "      <td>3.270903</td>\n",
              "      <td>16.963817</td>\n",
              "      <td>6.988850</td>\n",
              "      <td>63.043499</td>\n",
              "      <td>0</td>\n",
              "    </tr>\n",
              "    <tr>\n",
              "      <th>17896</th>\n",
              "      <td>119.523438</td>\n",
              "      <td>44.198410</td>\n",
              "      <td>0.026662</td>\n",
              "      <td>0.352641</td>\n",
              "      <td>1.828595</td>\n",
              "      <td>12.674068</td>\n",
              "      <td>11.153939</td>\n",
              "      <td>166.582439</td>\n",
              "      <td>0</td>\n",
              "    </tr>\n",
              "    <tr>\n",
              "      <th>17897</th>\n",
              "      <td>154.875000</td>\n",
              "      <td>48.590766</td>\n",
              "      <td>-0.285643</td>\n",
              "      <td>0.129281</td>\n",
              "      <td>4.153010</td>\n",
              "      <td>21.971915</td>\n",
              "      <td>6.746838</td>\n",
              "      <td>52.230021</td>\n",
              "      <td>0</td>\n",
              "    </tr>\n",
              "  </tbody>\n",
              "</table>\n",
              "<p>17898 rows × 9 columns</p>\n",
              "</div>\n",
              "      <button class=\"colab-df-convert\" onclick=\"convertToInteractive('df-54a88eda-6c82-4d82-9cc3-b9b8e90d6755')\"\n",
              "              title=\"Convert this dataframe to an interactive table.\"\n",
              "              style=\"display:none;\">\n",
              "        \n",
              "  <svg xmlns=\"http://www.w3.org/2000/svg\" height=\"24px\"viewBox=\"0 0 24 24\"\n",
              "       width=\"24px\">\n",
              "    <path d=\"M0 0h24v24H0V0z\" fill=\"none\"/>\n",
              "    <path d=\"M18.56 5.44l.94 2.06.94-2.06 2.06-.94-2.06-.94-.94-2.06-.94 2.06-2.06.94zm-11 1L8.5 8.5l.94-2.06 2.06-.94-2.06-.94L8.5 2.5l-.94 2.06-2.06.94zm10 10l.94 2.06.94-2.06 2.06-.94-2.06-.94-.94-2.06-.94 2.06-2.06.94z\"/><path d=\"M17.41 7.96l-1.37-1.37c-.4-.4-.92-.59-1.43-.59-.52 0-1.04.2-1.43.59L10.3 9.45l-7.72 7.72c-.78.78-.78 2.05 0 2.83L4 21.41c.39.39.9.59 1.41.59.51 0 1.02-.2 1.41-.59l7.78-7.78 2.81-2.81c.8-.78.8-2.07 0-2.86zM5.41 20L4 18.59l7.72-7.72 1.47 1.35L5.41 20z\"/>\n",
              "  </svg>\n",
              "      </button>\n",
              "      \n",
              "  <style>\n",
              "    .colab-df-container {\n",
              "      display:flex;\n",
              "      flex-wrap:wrap;\n",
              "      gap: 12px;\n",
              "    }\n",
              "\n",
              "    .colab-df-convert {\n",
              "      background-color: #E8F0FE;\n",
              "      border: none;\n",
              "      border-radius: 50%;\n",
              "      cursor: pointer;\n",
              "      display: none;\n",
              "      fill: #1967D2;\n",
              "      height: 32px;\n",
              "      padding: 0 0 0 0;\n",
              "      width: 32px;\n",
              "    }\n",
              "\n",
              "    .colab-df-convert:hover {\n",
              "      background-color: #E2EBFA;\n",
              "      box-shadow: 0px 1px 2px rgba(60, 64, 67, 0.3), 0px 1px 3px 1px rgba(60, 64, 67, 0.15);\n",
              "      fill: #174EA6;\n",
              "    }\n",
              "\n",
              "    [theme=dark] .colab-df-convert {\n",
              "      background-color: #3B4455;\n",
              "      fill: #D2E3FC;\n",
              "    }\n",
              "\n",
              "    [theme=dark] .colab-df-convert:hover {\n",
              "      background-color: #434B5C;\n",
              "      box-shadow: 0px 1px 3px 1px rgba(0, 0, 0, 0.15);\n",
              "      filter: drop-shadow(0px 1px 2px rgba(0, 0, 0, 0.3));\n",
              "      fill: #FFFFFF;\n",
              "    }\n",
              "  </style>\n",
              "\n",
              "      <script>\n",
              "        const buttonEl =\n",
              "          document.querySelector('#df-54a88eda-6c82-4d82-9cc3-b9b8e90d6755 button.colab-df-convert');\n",
              "        buttonEl.style.display =\n",
              "          google.colab.kernel.accessAllowed ? 'block' : 'none';\n",
              "\n",
              "        async function convertToInteractive(key) {\n",
              "          const element = document.querySelector('#df-54a88eda-6c82-4d82-9cc3-b9b8e90d6755');\n",
              "          const dataTable =\n",
              "            await google.colab.kernel.invokeFunction('convertToInteractive',\n",
              "                                                     [key], {});\n",
              "          if (!dataTable) return;\n",
              "\n",
              "          const docLinkHtml = 'Like what you see? Visit the ' +\n",
              "            '<a target=\"_blank\" href=https://colab.research.google.com/notebooks/data_table.ipynb>data table notebook</a>'\n",
              "            + ' to learn more about interactive tables.';\n",
              "          element.innerHTML = '';\n",
              "          dataTable['output_type'] = 'display_data';\n",
              "          await google.colab.output.renderOutput(dataTable, element);\n",
              "          const docLink = document.createElement('div');\n",
              "          docLink.innerHTML = docLinkHtml;\n",
              "          element.appendChild(docLink);\n",
              "        }\n",
              "      </script>\n",
              "    </div>\n",
              "  </div>\n",
              "  "
            ]
          },
          "metadata": {},
          "execution_count": 7
        }
      ]
    },
    {
      "cell_type": "markdown",
      "source": [
        "Задание 1: Сформируйте выборку для дальнейшей работы следующим образом: выберите лишь те объекты, у которых MIP  [10, 100]"
      ],
      "metadata": {
        "id": "H09Xqt_OuNWC"
      }
    },
    {
      "cell_type": "code",
      "source": [
        "data_condition_frame = data_frame.query('(mip >= 10 & mip <= 100)')"
      ],
      "metadata": {
        "id": "vvrKOsknyWEk"
      },
      "execution_count": 8,
      "outputs": []
    },
    {
      "cell_type": "markdown",
      "source": [
        "Укажите число строк в полученной выборке:"
      ],
      "metadata": {
        "id": "QQFszlirzBku"
      }
    },
    {
      "cell_type": "code",
      "source": [
        "data_condition_frame.shape[0]"
      ],
      "metadata": {
        "colab": {
          "base_uri": "https://localhost:8080/"
        },
        "id": "9TgHmR0qzGEd",
        "outputId": "4a6af845-e205-4a03-b648-5baa3aa71452"
      },
      "execution_count": 9,
      "outputs": [
        {
          "output_type": "execute_result",
          "data": {
            "text/plain": [
              "4218"
            ]
          },
          "metadata": {},
          "execution_count": 9
        }
      ]
    },
    {
      "cell_type": "markdown",
      "source": [
        "Определите выборочное среднее для столбца MIP"
      ],
      "metadata": {
        "id": "IEIUr20XzlIg"
      }
    },
    {
      "cell_type": "code",
      "source": [
        "data_condition_frame.mip.mean()"
      ],
      "metadata": {
        "colab": {
          "base_uri": "https://localhost:8080/"
        },
        "id": "_vTV9GyRzrmj",
        "outputId": "0c4caf0c-a4b9-4702-9b30-38a7a6f35d77"
      },
      "execution_count": 10,
      "outputs": [
        {
          "output_type": "execute_result",
          "data": {
            "text/plain": [
              "77.0531927898293"
            ]
          },
          "metadata": {},
          "execution_count": 10
        }
      ]
    },
    {
      "cell_type": "markdown",
      "source": [
        "Определите минимальное значение из столбца MIP"
      ],
      "metadata": {
        "id": "yt1Mdmgb1Ll1"
      }
    },
    {
      "cell_type": "code",
      "source": [
        "data_condition_frame.mip.min()"
      ],
      "metadata": {
        "colab": {
          "base_uri": "https://localhost:8080/"
        },
        "id": "HMomOjMK1Mpg",
        "outputId": "da397a95-2355-4503-c343-adcf5ab6ef89"
      },
      "execution_count": 11,
      "outputs": [
        {
          "output_type": "execute_result",
          "data": {
            "text/plain": [
              "10.0078125"
            ]
          },
          "metadata": {},
          "execution_count": 11
        }
      ]
    },
    {
      "cell_type": "markdown",
      "source": [
        "Задание 2. Отсортируйте данные в столбце SIP по возрастанию, а затем разделите набор данных на обучающую и тестовую выборки с помощью train_test_split() в соотношении 80:20 c параметром random_state = 33. Используйте стратификацию по колонке отклика."
      ],
      "metadata": {
        "id": "A4tG-QNf15Ia"
      }
    },
    {
      "cell_type": "markdown",
      "source": [
        "Сортируем:"
      ],
      "metadata": {
        "id": "C8gRGusN3DCG"
      }
    },
    {
      "cell_type": "code",
      "source": [
        "data_frame_sip = data_condition_frame.sort_values(by = 'sip')\n",
        "data_frame_sip"
      ],
      "metadata": {
        "colab": {
          "base_uri": "https://localhost:8080/",
          "height": 419
        },
        "id": "VtPLvG9N1-FG",
        "outputId": "e89389d8-73a5-4da6-f6c1-1b6842ebb563"
      },
      "execution_count": 12,
      "outputs": [
        {
          "output_type": "execute_result",
          "data": {
            "text/plain": [
              "             mip      stdip      ekip        sip          mc       stdc  \\\n",
              "12344  92.804688  73.323775  0.470206  -1.040048   21.126254  40.828972   \n",
              "3649   84.132812  74.457556  0.694280  -0.965077   98.496656  50.698540   \n",
              "14688  96.070312  74.560083  0.703671  -0.960082   10.634615  35.096062   \n",
              "795    74.632812  75.867161  0.834880  -0.838742   67.623746  81.199889   \n",
              "2437   99.281250  71.956469  0.765558  -0.827640  197.234114  63.758798   \n",
              "...          ...        ...       ...        ...         ...        ...   \n",
              "4118   12.117188  28.238001  7.525028  57.175232  123.622074  68.761628   \n",
              "11783  12.507812  27.597553  7.572577  58.294501   42.612876  59.377834   \n",
              "12029  10.320312  26.871201  7.875742  63.149537   38.887960  58.923800   \n",
              "10456  18.468750  24.791612  7.595097  65.385974   69.800167  75.244969   \n",
              "1504   11.140625  25.695250  8.069522  68.101622   75.832776  70.894822   \n",
              "\n",
              "            ekc         sc  target  \n",
              "12344  1.837012   2.433000       0  \n",
              "3649   1.170048   0.858232       0  \n",
              "14688  3.711222  14.282259       1  \n",
              "795    0.998825  -0.311267       0  \n",
              "2437  -1.876388   2.431297       0  \n",
              "...         ...        ...     ...  \n",
              "4118   0.047999  -0.562968       1  \n",
              "11783  1.565603   1.907165       1  \n",
              "12029  1.635320   2.225703       1  \n",
              "10456  0.894922  -0.118137       1  \n",
              "1504   0.781356  -0.152781       1  \n",
              "\n",
              "[4218 rows x 9 columns]"
            ],
            "text/html": [
              "\n",
              "  <div id=\"df-e6b10c76-6f22-402c-a628-883c95ed66bb\">\n",
              "    <div class=\"colab-df-container\">\n",
              "      <div>\n",
              "<style scoped>\n",
              "    .dataframe tbody tr th:only-of-type {\n",
              "        vertical-align: middle;\n",
              "    }\n",
              "\n",
              "    .dataframe tbody tr th {\n",
              "        vertical-align: top;\n",
              "    }\n",
              "\n",
              "    .dataframe thead th {\n",
              "        text-align: right;\n",
              "    }\n",
              "</style>\n",
              "<table border=\"1\" class=\"dataframe\">\n",
              "  <thead>\n",
              "    <tr style=\"text-align: right;\">\n",
              "      <th></th>\n",
              "      <th>mip</th>\n",
              "      <th>stdip</th>\n",
              "      <th>ekip</th>\n",
              "      <th>sip</th>\n",
              "      <th>mc</th>\n",
              "      <th>stdc</th>\n",
              "      <th>ekc</th>\n",
              "      <th>sc</th>\n",
              "      <th>target</th>\n",
              "    </tr>\n",
              "  </thead>\n",
              "  <tbody>\n",
              "    <tr>\n",
              "      <th>12344</th>\n",
              "      <td>92.804688</td>\n",
              "      <td>73.323775</td>\n",
              "      <td>0.470206</td>\n",
              "      <td>-1.040048</td>\n",
              "      <td>21.126254</td>\n",
              "      <td>40.828972</td>\n",
              "      <td>1.837012</td>\n",
              "      <td>2.433000</td>\n",
              "      <td>0</td>\n",
              "    </tr>\n",
              "    <tr>\n",
              "      <th>3649</th>\n",
              "      <td>84.132812</td>\n",
              "      <td>74.457556</td>\n",
              "      <td>0.694280</td>\n",
              "      <td>-0.965077</td>\n",
              "      <td>98.496656</td>\n",
              "      <td>50.698540</td>\n",
              "      <td>1.170048</td>\n",
              "      <td>0.858232</td>\n",
              "      <td>0</td>\n",
              "    </tr>\n",
              "    <tr>\n",
              "      <th>14688</th>\n",
              "      <td>96.070312</td>\n",
              "      <td>74.560083</td>\n",
              "      <td>0.703671</td>\n",
              "      <td>-0.960082</td>\n",
              "      <td>10.634615</td>\n",
              "      <td>35.096062</td>\n",
              "      <td>3.711222</td>\n",
              "      <td>14.282259</td>\n",
              "      <td>1</td>\n",
              "    </tr>\n",
              "    <tr>\n",
              "      <th>795</th>\n",
              "      <td>74.632812</td>\n",
              "      <td>75.867161</td>\n",
              "      <td>0.834880</td>\n",
              "      <td>-0.838742</td>\n",
              "      <td>67.623746</td>\n",
              "      <td>81.199889</td>\n",
              "      <td>0.998825</td>\n",
              "      <td>-0.311267</td>\n",
              "      <td>0</td>\n",
              "    </tr>\n",
              "    <tr>\n",
              "      <th>2437</th>\n",
              "      <td>99.281250</td>\n",
              "      <td>71.956469</td>\n",
              "      <td>0.765558</td>\n",
              "      <td>-0.827640</td>\n",
              "      <td>197.234114</td>\n",
              "      <td>63.758798</td>\n",
              "      <td>-1.876388</td>\n",
              "      <td>2.431297</td>\n",
              "      <td>0</td>\n",
              "    </tr>\n",
              "    <tr>\n",
              "      <th>...</th>\n",
              "      <td>...</td>\n",
              "      <td>...</td>\n",
              "      <td>...</td>\n",
              "      <td>...</td>\n",
              "      <td>...</td>\n",
              "      <td>...</td>\n",
              "      <td>...</td>\n",
              "      <td>...</td>\n",
              "      <td>...</td>\n",
              "    </tr>\n",
              "    <tr>\n",
              "      <th>4118</th>\n",
              "      <td>12.117188</td>\n",
              "      <td>28.238001</td>\n",
              "      <td>7.525028</td>\n",
              "      <td>57.175232</td>\n",
              "      <td>123.622074</td>\n",
              "      <td>68.761628</td>\n",
              "      <td>0.047999</td>\n",
              "      <td>-0.562968</td>\n",
              "      <td>1</td>\n",
              "    </tr>\n",
              "    <tr>\n",
              "      <th>11783</th>\n",
              "      <td>12.507812</td>\n",
              "      <td>27.597553</td>\n",
              "      <td>7.572577</td>\n",
              "      <td>58.294501</td>\n",
              "      <td>42.612876</td>\n",
              "      <td>59.377834</td>\n",
              "      <td>1.565603</td>\n",
              "      <td>1.907165</td>\n",
              "      <td>1</td>\n",
              "    </tr>\n",
              "    <tr>\n",
              "      <th>12029</th>\n",
              "      <td>10.320312</td>\n",
              "      <td>26.871201</td>\n",
              "      <td>7.875742</td>\n",
              "      <td>63.149537</td>\n",
              "      <td>38.887960</td>\n",
              "      <td>58.923800</td>\n",
              "      <td>1.635320</td>\n",
              "      <td>2.225703</td>\n",
              "      <td>1</td>\n",
              "    </tr>\n",
              "    <tr>\n",
              "      <th>10456</th>\n",
              "      <td>18.468750</td>\n",
              "      <td>24.791612</td>\n",
              "      <td>7.595097</td>\n",
              "      <td>65.385974</td>\n",
              "      <td>69.800167</td>\n",
              "      <td>75.244969</td>\n",
              "      <td>0.894922</td>\n",
              "      <td>-0.118137</td>\n",
              "      <td>1</td>\n",
              "    </tr>\n",
              "    <tr>\n",
              "      <th>1504</th>\n",
              "      <td>11.140625</td>\n",
              "      <td>25.695250</td>\n",
              "      <td>8.069522</td>\n",
              "      <td>68.101622</td>\n",
              "      <td>75.832776</td>\n",
              "      <td>70.894822</td>\n",
              "      <td>0.781356</td>\n",
              "      <td>-0.152781</td>\n",
              "      <td>1</td>\n",
              "    </tr>\n",
              "  </tbody>\n",
              "</table>\n",
              "<p>4218 rows × 9 columns</p>\n",
              "</div>\n",
              "      <button class=\"colab-df-convert\" onclick=\"convertToInteractive('df-e6b10c76-6f22-402c-a628-883c95ed66bb')\"\n",
              "              title=\"Convert this dataframe to an interactive table.\"\n",
              "              style=\"display:none;\">\n",
              "        \n",
              "  <svg xmlns=\"http://www.w3.org/2000/svg\" height=\"24px\"viewBox=\"0 0 24 24\"\n",
              "       width=\"24px\">\n",
              "    <path d=\"M0 0h24v24H0V0z\" fill=\"none\"/>\n",
              "    <path d=\"M18.56 5.44l.94 2.06.94-2.06 2.06-.94-2.06-.94-.94-2.06-.94 2.06-2.06.94zm-11 1L8.5 8.5l.94-2.06 2.06-.94-2.06-.94L8.5 2.5l-.94 2.06-2.06.94zm10 10l.94 2.06.94-2.06 2.06-.94-2.06-.94-.94-2.06-.94 2.06-2.06.94z\"/><path d=\"M17.41 7.96l-1.37-1.37c-.4-.4-.92-.59-1.43-.59-.52 0-1.04.2-1.43.59L10.3 9.45l-7.72 7.72c-.78.78-.78 2.05 0 2.83L4 21.41c.39.39.9.59 1.41.59.51 0 1.02-.2 1.41-.59l7.78-7.78 2.81-2.81c.8-.78.8-2.07 0-2.86zM5.41 20L4 18.59l7.72-7.72 1.47 1.35L5.41 20z\"/>\n",
              "  </svg>\n",
              "      </button>\n",
              "      \n",
              "  <style>\n",
              "    .colab-df-container {\n",
              "      display:flex;\n",
              "      flex-wrap:wrap;\n",
              "      gap: 12px;\n",
              "    }\n",
              "\n",
              "    .colab-df-convert {\n",
              "      background-color: #E8F0FE;\n",
              "      border: none;\n",
              "      border-radius: 50%;\n",
              "      cursor: pointer;\n",
              "      display: none;\n",
              "      fill: #1967D2;\n",
              "      height: 32px;\n",
              "      padding: 0 0 0 0;\n",
              "      width: 32px;\n",
              "    }\n",
              "\n",
              "    .colab-df-convert:hover {\n",
              "      background-color: #E2EBFA;\n",
              "      box-shadow: 0px 1px 2px rgba(60, 64, 67, 0.3), 0px 1px 3px 1px rgba(60, 64, 67, 0.15);\n",
              "      fill: #174EA6;\n",
              "    }\n",
              "\n",
              "    [theme=dark] .colab-df-convert {\n",
              "      background-color: #3B4455;\n",
              "      fill: #D2E3FC;\n",
              "    }\n",
              "\n",
              "    [theme=dark] .colab-df-convert:hover {\n",
              "      background-color: #434B5C;\n",
              "      box-shadow: 0px 1px 3px 1px rgba(0, 0, 0, 0.15);\n",
              "      filter: drop-shadow(0px 1px 2px rgba(0, 0, 0, 0.3));\n",
              "      fill: #FFFFFF;\n",
              "    }\n",
              "  </style>\n",
              "\n",
              "      <script>\n",
              "        const buttonEl =\n",
              "          document.querySelector('#df-e6b10c76-6f22-402c-a628-883c95ed66bb button.colab-df-convert');\n",
              "        buttonEl.style.display =\n",
              "          google.colab.kernel.accessAllowed ? 'block' : 'none';\n",
              "\n",
              "        async function convertToInteractive(key) {\n",
              "          const element = document.querySelector('#df-e6b10c76-6f22-402c-a628-883c95ed66bb');\n",
              "          const dataTable =\n",
              "            await google.colab.kernel.invokeFunction('convertToInteractive',\n",
              "                                                     [key], {});\n",
              "          if (!dataTable) return;\n",
              "\n",
              "          const docLinkHtml = 'Like what you see? Visit the ' +\n",
              "            '<a target=\"_blank\" href=https://colab.research.google.com/notebooks/data_table.ipynb>data table notebook</a>'\n",
              "            + ' to learn more about interactive tables.';\n",
              "          element.innerHTML = '';\n",
              "          dataTable['output_type'] = 'display_data';\n",
              "          await google.colab.output.renderOutput(dataTable, element);\n",
              "          const docLink = document.createElement('div');\n",
              "          docLink.innerHTML = docLinkHtml;\n",
              "          element.appendChild(docLink);\n",
              "        }\n",
              "      </script>\n",
              "    </div>\n",
              "  </div>\n",
              "  "
            ]
          },
          "metadata": {},
          "execution_count": 12
        }
      ]
    },
    {
      "cell_type": "markdown",
      "source": [
        "используем train_test_split() для поиска max(stdc)"
      ],
      "metadata": {
        "id": "rcsj5gbq3FkE"
      }
    },
    {
      "cell_type": "code",
      "source": [
        "from sklearn.model_selection import train_test_split\n",
        "X = data_frame_sip.drop('target', axis=1)\n",
        "Y = data_frame_sip['target']\n",
        "\n",
        "x, x_test, y, y_test = train_test_split(X, Y, random_state = 33, test_size = 0.2, stratify=Y)\n",
        "\n",
        "\n"
      ],
      "metadata": {
        "id": "7whn86WQ3Rxl"
      },
      "execution_count": 14,
      "outputs": []
    },
    {
      "cell_type": "code",
      "source": [
        "x.stdc.max()"
      ],
      "metadata": {
        "colab": {
          "base_uri": "https://localhost:8080/"
        },
        "id": "vIpGPYKAFPnW",
        "outputId": "a2d6ef5d-9a95-4d52-99c0-5143e8f8c848"
      },
      "execution_count": 15,
      "outputs": [
        {
          "output_type": "execute_result",
          "data": {
            "text/plain": [
              "109.6553451"
            ]
          },
          "metadata": {},
          "execution_count": 15
        }
      ]
    },
    {
      "cell_type": "markdown",
      "source": [
        "Задание 3. Выполните преобразование линейной нормировки для тренировочного набора данных и примените его для тестовых данных."
      ],
      "metadata": {
        "id": "70rIXZPVFcMl"
      }
    },
    {
      "cell_type": "code",
      "source": [
        "from sklearn import preprocessing\n",
        "from sklearn.preprocessing import MinMaxScaler\n",
        "\n",
        "scaled = MinMaxScaler().fit(x)\n",
        "x[x.columns] = scaled.transform(x)\n",
        "x_test[x_test.columns] = scaled.transform(x_test)\n",
        "\n",
        "x.stdip.mean()"
      ],
      "metadata": {
        "colab": {
          "base_uri": "https://localhost:8080/"
        },
        "id": "uQinRoYjFTb4",
        "outputId": "7a202f10-e2d8-4266-bde8-2dc64322e249"
      },
      "execution_count": 16,
      "outputs": [
        {
          "output_type": "execute_result",
          "data": {
            "text/plain": [
              "0.25572456092231716"
            ]
          },
          "metadata": {},
          "execution_count": 16
        }
      ]
    },
    {
      "cell_type": "markdown",
      "source": [
        "###Используйте полученные данные и обучите алгоритмы"
      ],
      "metadata": {
        "id": "peEWf4yAIi9u"
      }
    },
    {
      "cell_type": "markdown",
      "source": [
        "Обучите модель LogisticRegression() на тренировочных данных используя все параметы по умолчанию. Оцените модель на тестовых данных."
      ],
      "metadata": {
        "id": "P4skLRIeImg1"
      }
    },
    {
      "cell_type": "code",
      "source": [
        "from sklearn.linear_model import LogisticRegression\n",
        "predicted = LogisticRegression(random_state = 33).fit(x, y).predict(x_test)\n"
      ],
      "metadata": {
        "id": "qpHlcvmcY6bI"
      },
      "execution_count": 18,
      "outputs": []
    },
    {
      "cell_type": "markdown",
      "source": [
        "Составьте матрицу ошибок. Введите значение для True Positive (TP):"
      ],
      "metadata": {
        "id": "Us2_ZPKKIrCO"
      }
    },
    {
      "cell_type": "code",
      "source": [
        "from sklearn.metrics import confusion_matrix\n",
        "confusion_matrix(y_test, predicted)"
      ],
      "metadata": {
        "colab": {
          "base_uri": "https://localhost:8080/"
        },
        "id": "TnjmDuoIZn5S",
        "outputId": "69fe314d-c770-4aaf-f580-d31f00b8d785"
      },
      "execution_count": 19,
      "outputs": [
        {
          "output_type": "execute_result",
          "data": {
            "text/plain": [
              "array([[539,  18],\n",
              "       [ 41, 246]])"
            ]
          },
          "metadata": {},
          "execution_count": 19
        }
      ]
    },
    {
      "cell_type": "markdown",
      "source": [
        "Вычислите f1 score для тестового набора данных."
      ],
      "metadata": {
        "id": "akxSNtd9b_4X"
      }
    },
    {
      "cell_type": "code",
      "source": [
        "from sklearn.metrics import f1_score\n",
        "f1_score(y_test, predicted)"
      ],
      "metadata": {
        "colab": {
          "base_uri": "https://localhost:8080/"
        },
        "id": "70zKUjuccAx0",
        "outputId": "1c30a9ce-f1ca-4712-9181-a2e749fe2cce"
      },
      "execution_count": 26,
      "outputs": [
        {
          "output_type": "execute_result",
          "data": {
            "text/plain": [
              "0.8929219600725952"
            ]
          },
          "metadata": {},
          "execution_count": 26
        }
      ]
    },
    {
      "cell_type": "markdown",
      "source": [
        "Обучите модель KNeighborsClassifier(n_neighbors=3) на тренировочных данных. Оцените на тестовых данных."
      ],
      "metadata": {
        "id": "UKLJ-LQZfBvC"
      }
    },
    {
      "cell_type": "code",
      "source": [
        "from sklearn.neighbors import KNeighborsClassifier\n",
        "predicted = KNeighborsClassifier(n_neighbors=3).fit(x, y).predict(x_test)"
      ],
      "metadata": {
        "id": "T-PvPmL-fC6W"
      },
      "execution_count": 31,
      "outputs": []
    },
    {
      "cell_type": "markdown",
      "source": [
        "Составьте матрицу ошибок. Введите значение для True Positive (TP):"
      ],
      "metadata": {
        "id": "ythYiXd2f0dJ"
      }
    },
    {
      "cell_type": "code",
      "source": [
        "confusion_matrix(y_test, predicted)"
      ],
      "metadata": {
        "colab": {
          "base_uri": "https://localhost:8080/"
        },
        "id": "2a8-T8qWf1Ek",
        "outputId": "3bc878ee-3ec7-4469-8e4a-9b5ba10cd8d4"
      },
      "execution_count": 32,
      "outputs": [
        {
          "output_type": "execute_result",
          "data": {
            "text/plain": [
              "array([[540,  17],\n",
              "       [ 29, 258]])"
            ]
          },
          "metadata": {},
          "execution_count": 32
        }
      ]
    },
    {
      "cell_type": "markdown",
      "source": [
        "Вычислите f1 score для тестового набора данных."
      ],
      "metadata": {
        "id": "jWRmbyHmf8kK"
      }
    },
    {
      "cell_type": "code",
      "source": [
        "f1_score(y_test, predicted)"
      ],
      "metadata": {
        "colab": {
          "base_uri": "https://localhost:8080/"
        },
        "id": "JfgDiIbKf9D7",
        "outputId": "d3d8fd86-d878-4c86-c1b6-f9a037b22090"
      },
      "execution_count": 34,
      "outputs": [
        {
          "output_type": "execute_result",
          "data": {
            "text/plain": [
              "0.918149466192171"
            ]
          },
          "metadata": {},
          "execution_count": 34
        }
      ]
    },
    {
      "cell_type": "markdown",
      "source": [
        "Разбор завершен!"
      ],
      "metadata": {
        "id": "fryouXf8gBh4"
      }
    }
  ]
}