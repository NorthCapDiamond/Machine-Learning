{
  "nbformat": 4,
  "nbformat_minor": 0,
  "metadata": {
    "colab": {
      "provenance": []
    },
    "kernelspec": {
      "name": "python3",
      "display_name": "Python 3"
    },
    "language_info": {
      "name": "python"
    }
  },
  "cells": [
    {
      "cell_type": "markdown",
      "source": [
        "Представленный набор данных содержит информацию о 60000 образцах написания рукописных цифр и метки классов для обучения. Следующий набор данных содержит 10000 образцов и меток для тестирования. Каждая строка состоит из 785 значений: первое значение (колонка label) — метка (число от 0 до 9), а оставшиеся 784 значения — значения пикселей (числа от 0 до 255). Данные также доступны на kaggle."
      ],
      "metadata": {
        "id": "vA53H088eQWZ"
      }
    },
    {
      "cell_type": "markdown",
      "source": [
        "task1"
      ],
      "metadata": {
        "id": "ji5Y0sD-enmi"
      }
    },
    {
      "cell_type": "code",
      "execution_count": null,
      "metadata": {
        "id": "nHA5by6YYqvY"
      },
      "outputs": [],
      "source": [
        "import pandas as pd\n",
        "data_train = pd.read_csv(\"/content/drive/MyDrive/ML_Final/MNIST_train.csv\")\n",
        "data_test = pd.read_csv(\"/content/drive/MyDrive/ML_Final/MNIST_test.csv\")"
      ]
    },
    {
      "cell_type": "markdown",
      "source": [
        "а) Из тренировочного и тестового наборов данных отберите изображения, относящиеся к классу 2 и 3.\n",
        "\n",
        "б) Используйте метод главных компонент PCA() с параметром svd_solver='full'. Определите, какое минимальное количество главных компонент  необходимо использовать, чтобы доля объясненной дисперсии превышала 0.83 (была строго больше указанного значения) на тренировочном наборе данных.\n",
        "\n",
        "Введите количество главных компонент :"
      ],
      "metadata": {
        "id": "EQ7EC3h9eaAs"
      }
    },
    {
      "cell_type": "code",
      "source": [
        "data_train = data_train[(data_train[\"label\"] == 2) | (data_train[\"label\"] == 3)]\n",
        "data_test = data_test[(data_test[\"label\"] == 2) | (data_test[\"label\"] == 3)]"
      ],
      "metadata": {
        "id": "gopJdc_rZvYD"
      },
      "execution_count": null,
      "outputs": []
    },
    {
      "cell_type": "code",
      "source": [
        "x_test = data_test.drop(columns=[\"label\"])\n",
        "y_test = data_test[\"label\"]\n",
        "\n",
        "x_train = data_train.drop(columns=[\"label\"])\n",
        "y_train = data_train[\"label\"]"
      ],
      "metadata": {
        "id": "XB1OlAtAaBny"
      },
      "execution_count": null,
      "outputs": []
    },
    {
      "cell_type": "code",
      "source": [
        "from sklearn.decomposition import PCA\n",
        "\n",
        "\n",
        "n = 0\n",
        "\n",
        "for i in range(1000):\n",
        "  model = PCA(i, svd_solver='full').fit(x_train, y_train)\n",
        "  if sum(model.explained_variance_ratio_) > 0.83:\n",
        "    n = i\n",
        "    break\n",
        "n\n"
      ],
      "metadata": {
        "colab": {
          "base_uri": "https://localhost:8080/"
        },
        "id": "5Ybs7XEqaSFb",
        "outputId": "d525fe52-c7f5-4e7d-a281-0985ae508e95"
      },
      "execution_count": null,
      "outputs": [
        {
          "output_type": "execute_result",
          "data": {
            "text/plain": [
              "49"
            ]
          },
          "metadata": {},
          "execution_count": 4
        }
      ]
    },
    {
      "cell_type": "markdown",
      "source": [
        "в) Найдите счеты, отвечающие найденным  главным компонентам для тренировочного и тестового наборов данных.\n",
        "\n",
        "Введите координату относительно 4 главной компоненты для 6 изображения в тренировочном наборе данных:"
      ],
      "metadata": {
        "id": "CNmrUwmHehbK"
      }
    },
    {
      "cell_type": "code",
      "source": [
        "model = PCA(n, svd_solver='full').fit(x_train, y_train)\n",
        "\n",
        "x_train = model.transform(x_train)\n",
        "x_test = model.transform(x_test)\n",
        "\n",
        "x_train[5][3]"
      ],
      "metadata": {
        "colab": {
          "base_uri": "https://localhost:8080/"
        },
        "id": "dSGUDW9GaujM",
        "outputId": "78894c89-9efe-4060-8fb5-336373ff07c2"
      },
      "execution_count": null,
      "outputs": [
        {
          "output_type": "execute_result",
          "data": {
            "text/plain": [
              "452.1666048980663"
            ]
          },
          "metadata": {},
          "execution_count": 5
        }
      ]
    },
    {
      "cell_type": "markdown",
      "source": [
        "task2"
      ],
      "metadata": {
        "id": "oYUyQesUbN2f"
      }
    },
    {
      "cell_type": "markdown",
      "source": [
        "2. Обучение моделей\n",
        "\n",
        "Используйте полученные данные (два класса и сниженная размерность) для обучение нижеуказанных моделей.\n",
        "\n",
        "a) Используйте объект sklearn.ensemble.VotingClassifier с параметром voting='hard'. В качестве базовых алгоритмов используйте следующие классификаторы с соответствующими параметрами:LogisticRegression(solver='liblinear', random_state=41), SVC(random_state=41), SGDClassifier(random_state=41). Обучите модель на тренировочных данных.\n",
        "\n",
        "Постройте classification_report и матрицу ошибок для полученной модели на тестовых данных."
      ],
      "metadata": {
        "id": "M12inpCCemSG"
      }
    },
    {
      "cell_type": "code",
      "source": [
        "from sklearn.ensemble import VotingClassifier\n",
        "from sklearn.linear_model import SGDClassifier\n",
        "from sklearn.linear_model import LogisticRegression\n",
        "from sklearn.svm import SVC\n",
        "from sklearn.metrics import confusion_matrix\n",
        "from sklearn.metrics import classification_report\n",
        "\n",
        "\n",
        "model2 = VotingClassifier(voting='hard', estimators=[('lr', LogisticRegression(solver='liblinear', random_state=41)), (\"svc\", SVC(random_state=41)), ('sgdc', SGDClassifier(random_state=41))])\n",
        "model2.fit(x_train, y_train)\n",
        "y_pred = model2.predict(x_test)\n",
        "\n",
        "print(classification_report(y_test, y_pred, digits=4))\n",
        "confusion_matrix(y_test, y_pred)\n",
        "\n",
        "\n"
      ],
      "metadata": {
        "colab": {
          "base_uri": "https://localhost:8080/"
        },
        "id": "29ZhNHq7cYCA",
        "outputId": "915c0dd5-5132-47e9-e477-34c7a71cf509"
      },
      "execution_count": null,
      "outputs": [
        {
          "output_type": "stream",
          "name": "stdout",
          "text": [
            "              precision    recall  f1-score   support\n",
            "\n",
            "           2     0.9836    0.9855    0.9845      1032\n",
            "           3     0.9851    0.9832    0.9841      1010\n",
            "\n",
            "    accuracy                         0.9843      2042\n",
            "   macro avg     0.9843    0.9843    0.9843      2042\n",
            "weighted avg     0.9843    0.9843    0.9843      2042\n",
            "\n"
          ]
        },
        {
          "output_type": "execute_result",
          "data": {
            "text/plain": [
              "array([[1017,   15],\n",
              "       [  17,  993]])"
            ]
          },
          "metadata": {},
          "execution_count": 7
        }
      ]
    },
    {
      "cell_type": "markdown",
      "source": [
        "б) Обучите модель sklearn.ensemble.GradientBoostingClassifier на тренировочных данных со следующими параметрами: n_estimators=500, learning_rate=0.8, random_state=41, max_depth=2.\n",
        "\n",
        "Постройте classification_report и матрицу ошибок для полученной модели на тестовых данных."
      ],
      "metadata": {
        "id": "oDP8hDMSe31T"
      }
    },
    {
      "cell_type": "code",
      "source": [
        "from sklearn.ensemble import GradientBoostingClassifier\n",
        "from sklearn.metrics import confusion_matrix\n",
        "from sklearn.metrics import classification_report\n",
        "\n",
        "y_pred = GradientBoostingClassifier(n_estimators=500, learning_rate=0.8, random_state=41, max_depth=2).fit(x_train, y_train).predict(x_test)\n",
        "\n",
        "print(classification_report(y_test, y_pred, digits=4))\n",
        "confusion_matrix(y_test, y_pred)"
      ],
      "metadata": {
        "colab": {
          "base_uri": "https://localhost:8080/"
        },
        "id": "RB_GyG67bQpM",
        "outputId": "8249825e-5eba-466d-b4e6-88dfec0a968b"
      },
      "execution_count": null,
      "outputs": [
        {
          "output_type": "stream",
          "name": "stdout",
          "text": [
            "              precision    recall  f1-score   support\n",
            "\n",
            "           2     0.9883    0.9845    0.9864      1032\n",
            "           3     0.9842    0.9881    0.9862      1010\n",
            "\n",
            "    accuracy                         0.9863      2042\n",
            "   macro avg     0.9863    0.9863    0.9863      2042\n",
            "weighted avg     0.9863    0.9863    0.9863      2042\n",
            "\n"
          ]
        },
        {
          "output_type": "execute_result",
          "data": {
            "text/plain": [
              "array([[1016,   16],\n",
              "       [  12,  998]])"
            ]
          },
          "metadata": {},
          "execution_count": 6
        }
      ]
    },
    {
      "cell_type": "code",
      "source": [],
      "metadata": {
        "id": "A1V85M16bk_t"
      },
      "execution_count": null,
      "outputs": []
    }
  ]
}