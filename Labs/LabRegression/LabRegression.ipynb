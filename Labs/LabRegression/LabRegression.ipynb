{
  "nbformat": 4,
  "nbformat_minor": 0,
  "metadata": {
    "colab": {
      "provenance": [],
      "collapsed_sections": [
        "jZTclvFkqGMs"
      ]
    },
    "kernelspec": {
      "name": "python3",
      "display_name": "Python 3"
    },
    "language_info": {
      "name": "python"
    }
  },
  "cells": [
    {
      "cell_type": "markdown",
      "source": [
        "###Задача 1"
      ],
      "metadata": {
        "id": "jZTclvFkqGMs"
      }
    },
    {
      "cell_type": "markdown",
      "source": [
        "Перед вами результаты наблюдений длительности нахождения человека в очереди в зависимости от количества людей в этой очереди.\n",
        "*Вам нужно только вставить ссылку на свои данные*"
      ],
      "metadata": {
        "id": "4W69XkGNqI7F"
      }
    },
    {
      "cell_type": "code",
      "source": [
        "import pandas as pd\n",
        "data_frame = pd.read_csv(\"/content/input.csv\")\n",
        "data_frame"
      ],
      "metadata": {
        "colab": {
          "base_uri": "https://localhost:8080/",
          "height": 359
        },
        "id": "pWHS0xAarL6J",
        "outputId": "e1db0db1-913a-473f-81fd-059411196fb0"
      },
      "execution_count": 764,
      "outputs": [
        {
          "output_type": "execute_result",
          "data": {
            "text/plain": [
              "   id   X   Y\n",
              "0   1  14  36\n",
              "1   2  21  49\n",
              "2   3  25  72\n",
              "3   4   8  24\n",
              "4   5  20  56\n",
              "5   6  18  48\n",
              "6   7  17  51\n",
              "7   8   3  10\n",
              "8   9   1   3\n",
              "9  10  10  32"
            ],
            "text/html": [
              "\n",
              "  <div id=\"df-b3e444c3-6652-4192-92eb-6d6bb98c864d\">\n",
              "    <div class=\"colab-df-container\">\n",
              "      <div>\n",
              "<style scoped>\n",
              "    .dataframe tbody tr th:only-of-type {\n",
              "        vertical-align: middle;\n",
              "    }\n",
              "\n",
              "    .dataframe tbody tr th {\n",
              "        vertical-align: top;\n",
              "    }\n",
              "\n",
              "    .dataframe thead th {\n",
              "        text-align: right;\n",
              "    }\n",
              "</style>\n",
              "<table border=\"1\" class=\"dataframe\">\n",
              "  <thead>\n",
              "    <tr style=\"text-align: right;\">\n",
              "      <th></th>\n",
              "      <th>id</th>\n",
              "      <th>X</th>\n",
              "      <th>Y</th>\n",
              "    </tr>\n",
              "  </thead>\n",
              "  <tbody>\n",
              "    <tr>\n",
              "      <th>0</th>\n",
              "      <td>1</td>\n",
              "      <td>14</td>\n",
              "      <td>36</td>\n",
              "    </tr>\n",
              "    <tr>\n",
              "      <th>1</th>\n",
              "      <td>2</td>\n",
              "      <td>21</td>\n",
              "      <td>49</td>\n",
              "    </tr>\n",
              "    <tr>\n",
              "      <th>2</th>\n",
              "      <td>3</td>\n",
              "      <td>25</td>\n",
              "      <td>72</td>\n",
              "    </tr>\n",
              "    <tr>\n",
              "      <th>3</th>\n",
              "      <td>4</td>\n",
              "      <td>8</td>\n",
              "      <td>24</td>\n",
              "    </tr>\n",
              "    <tr>\n",
              "      <th>4</th>\n",
              "      <td>5</td>\n",
              "      <td>20</td>\n",
              "      <td>56</td>\n",
              "    </tr>\n",
              "    <tr>\n",
              "      <th>5</th>\n",
              "      <td>6</td>\n",
              "      <td>18</td>\n",
              "      <td>48</td>\n",
              "    </tr>\n",
              "    <tr>\n",
              "      <th>6</th>\n",
              "      <td>7</td>\n",
              "      <td>17</td>\n",
              "      <td>51</td>\n",
              "    </tr>\n",
              "    <tr>\n",
              "      <th>7</th>\n",
              "      <td>8</td>\n",
              "      <td>3</td>\n",
              "      <td>10</td>\n",
              "    </tr>\n",
              "    <tr>\n",
              "      <th>8</th>\n",
              "      <td>9</td>\n",
              "      <td>1</td>\n",
              "      <td>3</td>\n",
              "    </tr>\n",
              "    <tr>\n",
              "      <th>9</th>\n",
              "      <td>10</td>\n",
              "      <td>10</td>\n",
              "      <td>32</td>\n",
              "    </tr>\n",
              "  </tbody>\n",
              "</table>\n",
              "</div>\n",
              "      <button class=\"colab-df-convert\" onclick=\"convertToInteractive('df-b3e444c3-6652-4192-92eb-6d6bb98c864d')\"\n",
              "              title=\"Convert this dataframe to an interactive table.\"\n",
              "              style=\"display:none;\">\n",
              "        \n",
              "  <svg xmlns=\"http://www.w3.org/2000/svg\" height=\"24px\"viewBox=\"0 0 24 24\"\n",
              "       width=\"24px\">\n",
              "    <path d=\"M0 0h24v24H0V0z\" fill=\"none\"/>\n",
              "    <path d=\"M18.56 5.44l.94 2.06.94-2.06 2.06-.94-2.06-.94-.94-2.06-.94 2.06-2.06.94zm-11 1L8.5 8.5l.94-2.06 2.06-.94-2.06-.94L8.5 2.5l-.94 2.06-2.06.94zm10 10l.94 2.06.94-2.06 2.06-.94-2.06-.94-.94-2.06-.94 2.06-2.06.94z\"/><path d=\"M17.41 7.96l-1.37-1.37c-.4-.4-.92-.59-1.43-.59-.52 0-1.04.2-1.43.59L10.3 9.45l-7.72 7.72c-.78.78-.78 2.05 0 2.83L4 21.41c.39.39.9.59 1.41.59.51 0 1.02-.2 1.41-.59l7.78-7.78 2.81-2.81c.8-.78.8-2.07 0-2.86zM5.41 20L4 18.59l7.72-7.72 1.47 1.35L5.41 20z\"/>\n",
              "  </svg>\n",
              "      </button>\n",
              "      \n",
              "  <style>\n",
              "    .colab-df-container {\n",
              "      display:flex;\n",
              "      flex-wrap:wrap;\n",
              "      gap: 12px;\n",
              "    }\n",
              "\n",
              "    .colab-df-convert {\n",
              "      background-color: #E8F0FE;\n",
              "      border: none;\n",
              "      border-radius: 50%;\n",
              "      cursor: pointer;\n",
              "      display: none;\n",
              "      fill: #1967D2;\n",
              "      height: 32px;\n",
              "      padding: 0 0 0 0;\n",
              "      width: 32px;\n",
              "    }\n",
              "\n",
              "    .colab-df-convert:hover {\n",
              "      background-color: #E2EBFA;\n",
              "      box-shadow: 0px 1px 2px rgba(60, 64, 67, 0.3), 0px 1px 3px 1px rgba(60, 64, 67, 0.15);\n",
              "      fill: #174EA6;\n",
              "    }\n",
              "\n",
              "    [theme=dark] .colab-df-convert {\n",
              "      background-color: #3B4455;\n",
              "      fill: #D2E3FC;\n",
              "    }\n",
              "\n",
              "    [theme=dark] .colab-df-convert:hover {\n",
              "      background-color: #434B5C;\n",
              "      box-shadow: 0px 1px 3px 1px rgba(0, 0, 0, 0.15);\n",
              "      filter: drop-shadow(0px 1px 2px rgba(0, 0, 0, 0.3));\n",
              "      fill: #FFFFFF;\n",
              "    }\n",
              "  </style>\n",
              "\n",
              "      <script>\n",
              "        const buttonEl =\n",
              "          document.querySelector('#df-b3e444c3-6652-4192-92eb-6d6bb98c864d button.colab-df-convert');\n",
              "        buttonEl.style.display =\n",
              "          google.colab.kernel.accessAllowed ? 'block' : 'none';\n",
              "\n",
              "        async function convertToInteractive(key) {\n",
              "          const element = document.querySelector('#df-b3e444c3-6652-4192-92eb-6d6bb98c864d');\n",
              "          const dataTable =\n",
              "            await google.colab.kernel.invokeFunction('convertToInteractive',\n",
              "                                                     [key], {});\n",
              "          if (!dataTable) return;\n",
              "\n",
              "          const docLinkHtml = 'Like what you see? Visit the ' +\n",
              "            '<a target=\"_blank\" href=https://colab.research.google.com/notebooks/data_table.ipynb>data table notebook</a>'\n",
              "            + ' to learn more about interactive tables.';\n",
              "          element.innerHTML = '';\n",
              "          dataTable['output_type'] = 'display_data';\n",
              "          await google.colab.output.renderOutput(dataTable, element);\n",
              "          const docLink = document.createElement('div');\n",
              "          docLink.innerHTML = docLinkHtml;\n",
              "          element.appendChild(docLink);\n",
              "        }\n",
              "      </script>\n",
              "    </div>\n",
              "  </div>\n",
              "  "
            ]
          },
          "metadata": {},
          "execution_count": 764
        }
      ]
    },
    {
      "cell_type": "markdown",
      "source": [
        "Обучите модель линейной регрессии для прогнозирования и введите указанные параметры."
      ],
      "metadata": {
        "id": "bDDt0M6trLD_"
      }
    },
    {
      "cell_type": "code",
      "execution_count": 765,
      "metadata": {
        "id": "Ywhcu1b0pjoB"
      },
      "outputs": [],
      "source": [
        "import numpy as np\n",
        "from sklearn.linear_model import LinearRegression\n",
        "\n",
        "reg = LinearRegression().fit(data_frame[['X']], data_frame[['Y']])"
      ]
    },
    {
      "cell_type": "markdown",
      "source": [
        "Определите выборочное среднее X с чертой:"
      ],
      "metadata": {
        "id": "2GhkGXPEwBms"
      }
    },
    {
      "cell_type": "code",
      "source": [
        "data_frame['X'].mean()"
      ],
      "metadata": {
        "colab": {
          "base_uri": "https://localhost:8080/"
        },
        "id": "QjEXYK5xwPFt",
        "outputId": "6dc141af-d423-4b6a-9368-ac99e7ab109d"
      },
      "execution_count": 766,
      "outputs": [
        {
          "output_type": "execute_result",
          "data": {
            "text/plain": [
              "13.7"
            ]
          },
          "metadata": {},
          "execution_count": 766
        }
      ]
    },
    {
      "cell_type": "markdown",
      "source": [
        "Определите выборочное среднее Y с чертой :"
      ],
      "metadata": {
        "id": "F6wdTx-kwPXp"
      }
    },
    {
      "cell_type": "code",
      "source": [
        "data_frame[\"Y\"].mean()"
      ],
      "metadata": {
        "colab": {
          "base_uri": "https://localhost:8080/"
        },
        "id": "vIKMlJktwS2E",
        "outputId": "d7d779f2-6d89-4974-8a63-0b9130fdc701"
      },
      "execution_count": 767,
      "outputs": [
        {
          "output_type": "execute_result",
          "data": {
            "text/plain": [
              "38.1"
            ]
          },
          "metadata": {},
          "execution_count": 767
        }
      ]
    },
    {
      "cell_type": "markdown",
      "source": [],
      "metadata": {
        "id": "7hvPDxzlQ6K4"
      }
    },
    {
      "cell_type": "markdown",
      "source": [
        "Найдите коэффициент Тетта1 :"
      ],
      "metadata": {
        "id": "qszaUqgMQwAI"
      }
    },
    {
      "cell_type": "code",
      "source": [
        "reg.coef_[0]"
      ],
      "metadata": {
        "colab": {
          "base_uri": "https://localhost:8080/"
        },
        "id": "-NUsNuqnQubm",
        "outputId": "3b6047a6-0e1d-4e9a-86d7-61d9cd1d183a"
      },
      "execution_count": 768,
      "outputs": [
        {
          "output_type": "execute_result",
          "data": {
            "text/plain": [
              "array([2.63817514])"
            ]
          },
          "metadata": {},
          "execution_count": 768
        }
      ]
    },
    {
      "cell_type": "markdown",
      "source": [
        "Найдите коэффициенты Тетта0 :"
      ],
      "metadata": {
        "id": "On1Vs4LMwTKr"
      }
    },
    {
      "cell_type": "code",
      "source": [
        "reg.intercept_"
      ],
      "metadata": {
        "colab": {
          "base_uri": "https://localhost:8080/"
        },
        "id": "XFqz_eaFwYOJ",
        "outputId": "e6305a97-bdab-4a69-8fb9-3efe2247b1d1"
      },
      "execution_count": 769,
      "outputs": [
        {
          "output_type": "execute_result",
          "data": {
            "text/plain": [
              "array([1.95700052])"
            ]
          },
          "metadata": {},
          "execution_count": 769
        }
      ]
    },
    {
      "cell_type": "markdown",
      "source": [
        "Оцените точность модели, вычислив R^2 статистику:  "
      ],
      "metadata": {
        "id": "sHtzbSi0wcMw"
      }
    },
    {
      "cell_type": "code",
      "source": [
        "from sklearn.metrics import r2_score\n",
        "y = reg.predict(data_frame[[\"X\"]])\n",
        "r2_score(data_frame.Y, y)"
      ],
      "metadata": {
        "colab": {
          "base_uri": "https://localhost:8080/"
        },
        "id": "4xy1-Iu-wb7H",
        "outputId": "8d7e6389-6335-4a6d-b250-58305ec2fab8"
      },
      "execution_count": 770,
      "outputs": [
        {
          "output_type": "execute_result",
          "data": {
            "text/plain": [
              "0.9676535870007654"
            ]
          },
          "metadata": {},
          "execution_count": 770
        }
      ]
    },
    {
      "cell_type": "markdown",
      "source": [
        "###Задача 2\n"
      ],
      "metadata": {
        "id": "GAv8ZT6Tz2-Y"
      }
    },
    {
      "cell_type": "markdown",
      "source": [
        "Представленный набор данных — это набор данных о семи различных типах рыб, продаваемых в некоторой рыбной лавке. Цель заключается в том, чтобы предсказать массу рыбы по каким-то косвенным признакам, известным о рыбе. Сами признаки, быть может, нужно синтезировать из тех, что известны.\n",
        "\n",
        "ВАЖНО: Задания с подробными пояснениями представлены в блокноте. Выполняя задания в блокноте, следует вводить полученные ответы в соответствующие поля ввода ниже. Рекомендуем вводить ответы поэтапно, для этого специально предусмотрено достаточное количество попыток."
      ],
      "metadata": {
        "id": "vDMZ_s1hz-LB"
      }
    },
    {
      "cell_type": "code",
      "source": [
        "import pandas as pd\n",
        "data_frame = pd.read_csv(\"https://courses.openedu.ru/assets/courseware/v1/fed9823d73d2b53f5591d98b87c20b8a/asset-v1:ITMOUniversity+MLDATAN+spring_2023_ITMO_bac+type@asset+block/fish_train.csv\")\n",
        "data_frame"
      ],
      "metadata": {
        "colab": {
          "base_uri": "https://localhost:8080/",
          "height": 483
        },
        "id": "fcQK558B0PJx",
        "outputId": "d53e2596-e802-46a7-f724-82c3287bf793"
      },
      "execution_count": 771,
      "outputs": [
        {
          "output_type": "execute_result",
          "data": {
            "text/plain": [
              "       Species  Weight  Length1  Length2  Length3   Height   Width\n",
              "0        Roach   150.0     20.4     22.0     24.7   5.8045  3.7544\n",
              "1        Perch   250.0     25.4     27.5     28.9   7.2828  4.5662\n",
              "2        Bream   430.0     26.5     29.0     34.0  12.4440  5.1340\n",
              "3        Bream   925.0     36.2     39.5     45.3  18.7542  6.7497\n",
              "4        Perch   110.0     19.0     21.0     22.5   5.6925  3.5550\n",
              "..         ...     ...      ...      ...      ...      ...     ...\n",
              "114     Parkki   273.0     23.0     25.0     28.0  11.0880  4.1440\n",
              "115       Pike   500.0     42.0     45.0     48.0   6.9600  4.8960\n",
              "116  Whitefish  1000.0     37.3     40.0     43.5  12.3540  6.5250\n",
              "117      Perch   120.0     20.0     22.0     23.5   6.1100  3.4075\n",
              "118      Perch   820.0     36.6     39.0     41.3  12.4313  7.3514\n",
              "\n",
              "[119 rows x 7 columns]"
            ],
            "text/html": [
              "\n",
              "  <div id=\"df-7cd124da-5532-4660-8b9c-1f0dbde41a3d\">\n",
              "    <div class=\"colab-df-container\">\n",
              "      <div>\n",
              "<style scoped>\n",
              "    .dataframe tbody tr th:only-of-type {\n",
              "        vertical-align: middle;\n",
              "    }\n",
              "\n",
              "    .dataframe tbody tr th {\n",
              "        vertical-align: top;\n",
              "    }\n",
              "\n",
              "    .dataframe thead th {\n",
              "        text-align: right;\n",
              "    }\n",
              "</style>\n",
              "<table border=\"1\" class=\"dataframe\">\n",
              "  <thead>\n",
              "    <tr style=\"text-align: right;\">\n",
              "      <th></th>\n",
              "      <th>Species</th>\n",
              "      <th>Weight</th>\n",
              "      <th>Length1</th>\n",
              "      <th>Length2</th>\n",
              "      <th>Length3</th>\n",
              "      <th>Height</th>\n",
              "      <th>Width</th>\n",
              "    </tr>\n",
              "  </thead>\n",
              "  <tbody>\n",
              "    <tr>\n",
              "      <th>0</th>\n",
              "      <td>Roach</td>\n",
              "      <td>150.0</td>\n",
              "      <td>20.4</td>\n",
              "      <td>22.0</td>\n",
              "      <td>24.7</td>\n",
              "      <td>5.8045</td>\n",
              "      <td>3.7544</td>\n",
              "    </tr>\n",
              "    <tr>\n",
              "      <th>1</th>\n",
              "      <td>Perch</td>\n",
              "      <td>250.0</td>\n",
              "      <td>25.4</td>\n",
              "      <td>27.5</td>\n",
              "      <td>28.9</td>\n",
              "      <td>7.2828</td>\n",
              "      <td>4.5662</td>\n",
              "    </tr>\n",
              "    <tr>\n",
              "      <th>2</th>\n",
              "      <td>Bream</td>\n",
              "      <td>430.0</td>\n",
              "      <td>26.5</td>\n",
              "      <td>29.0</td>\n",
              "      <td>34.0</td>\n",
              "      <td>12.4440</td>\n",
              "      <td>5.1340</td>\n",
              "    </tr>\n",
              "    <tr>\n",
              "      <th>3</th>\n",
              "      <td>Bream</td>\n",
              "      <td>925.0</td>\n",
              "      <td>36.2</td>\n",
              "      <td>39.5</td>\n",
              "      <td>45.3</td>\n",
              "      <td>18.7542</td>\n",
              "      <td>6.7497</td>\n",
              "    </tr>\n",
              "    <tr>\n",
              "      <th>4</th>\n",
              "      <td>Perch</td>\n",
              "      <td>110.0</td>\n",
              "      <td>19.0</td>\n",
              "      <td>21.0</td>\n",
              "      <td>22.5</td>\n",
              "      <td>5.6925</td>\n",
              "      <td>3.5550</td>\n",
              "    </tr>\n",
              "    <tr>\n",
              "      <th>...</th>\n",
              "      <td>...</td>\n",
              "      <td>...</td>\n",
              "      <td>...</td>\n",
              "      <td>...</td>\n",
              "      <td>...</td>\n",
              "      <td>...</td>\n",
              "      <td>...</td>\n",
              "    </tr>\n",
              "    <tr>\n",
              "      <th>114</th>\n",
              "      <td>Parkki</td>\n",
              "      <td>273.0</td>\n",
              "      <td>23.0</td>\n",
              "      <td>25.0</td>\n",
              "      <td>28.0</td>\n",
              "      <td>11.0880</td>\n",
              "      <td>4.1440</td>\n",
              "    </tr>\n",
              "    <tr>\n",
              "      <th>115</th>\n",
              "      <td>Pike</td>\n",
              "      <td>500.0</td>\n",
              "      <td>42.0</td>\n",
              "      <td>45.0</td>\n",
              "      <td>48.0</td>\n",
              "      <td>6.9600</td>\n",
              "      <td>4.8960</td>\n",
              "    </tr>\n",
              "    <tr>\n",
              "      <th>116</th>\n",
              "      <td>Whitefish</td>\n",
              "      <td>1000.0</td>\n",
              "      <td>37.3</td>\n",
              "      <td>40.0</td>\n",
              "      <td>43.5</td>\n",
              "      <td>12.3540</td>\n",
              "      <td>6.5250</td>\n",
              "    </tr>\n",
              "    <tr>\n",
              "      <th>117</th>\n",
              "      <td>Perch</td>\n",
              "      <td>120.0</td>\n",
              "      <td>20.0</td>\n",
              "      <td>22.0</td>\n",
              "      <td>23.5</td>\n",
              "      <td>6.1100</td>\n",
              "      <td>3.4075</td>\n",
              "    </tr>\n",
              "    <tr>\n",
              "      <th>118</th>\n",
              "      <td>Perch</td>\n",
              "      <td>820.0</td>\n",
              "      <td>36.6</td>\n",
              "      <td>39.0</td>\n",
              "      <td>41.3</td>\n",
              "      <td>12.4313</td>\n",
              "      <td>7.3514</td>\n",
              "    </tr>\n",
              "  </tbody>\n",
              "</table>\n",
              "<p>119 rows × 7 columns</p>\n",
              "</div>\n",
              "      <button class=\"colab-df-convert\" onclick=\"convertToInteractive('df-7cd124da-5532-4660-8b9c-1f0dbde41a3d')\"\n",
              "              title=\"Convert this dataframe to an interactive table.\"\n",
              "              style=\"display:none;\">\n",
              "        \n",
              "  <svg xmlns=\"http://www.w3.org/2000/svg\" height=\"24px\"viewBox=\"0 0 24 24\"\n",
              "       width=\"24px\">\n",
              "    <path d=\"M0 0h24v24H0V0z\" fill=\"none\"/>\n",
              "    <path d=\"M18.56 5.44l.94 2.06.94-2.06 2.06-.94-2.06-.94-.94-2.06-.94 2.06-2.06.94zm-11 1L8.5 8.5l.94-2.06 2.06-.94-2.06-.94L8.5 2.5l-.94 2.06-2.06.94zm10 10l.94 2.06.94-2.06 2.06-.94-2.06-.94-.94-2.06-.94 2.06-2.06.94z\"/><path d=\"M17.41 7.96l-1.37-1.37c-.4-.4-.92-.59-1.43-.59-.52 0-1.04.2-1.43.59L10.3 9.45l-7.72 7.72c-.78.78-.78 2.05 0 2.83L4 21.41c.39.39.9.59 1.41.59.51 0 1.02-.2 1.41-.59l7.78-7.78 2.81-2.81c.8-.78.8-2.07 0-2.86zM5.41 20L4 18.59l7.72-7.72 1.47 1.35L5.41 20z\"/>\n",
              "  </svg>\n",
              "      </button>\n",
              "      \n",
              "  <style>\n",
              "    .colab-df-container {\n",
              "      display:flex;\n",
              "      flex-wrap:wrap;\n",
              "      gap: 12px;\n",
              "    }\n",
              "\n",
              "    .colab-df-convert {\n",
              "      background-color: #E8F0FE;\n",
              "      border: none;\n",
              "      border-radius: 50%;\n",
              "      cursor: pointer;\n",
              "      display: none;\n",
              "      fill: #1967D2;\n",
              "      height: 32px;\n",
              "      padding: 0 0 0 0;\n",
              "      width: 32px;\n",
              "    }\n",
              "\n",
              "    .colab-df-convert:hover {\n",
              "      background-color: #E2EBFA;\n",
              "      box-shadow: 0px 1px 2px rgba(60, 64, 67, 0.3), 0px 1px 3px 1px rgba(60, 64, 67, 0.15);\n",
              "      fill: #174EA6;\n",
              "    }\n",
              "\n",
              "    [theme=dark] .colab-df-convert {\n",
              "      background-color: #3B4455;\n",
              "      fill: #D2E3FC;\n",
              "    }\n",
              "\n",
              "    [theme=dark] .colab-df-convert:hover {\n",
              "      background-color: #434B5C;\n",
              "      box-shadow: 0px 1px 3px 1px rgba(0, 0, 0, 0.15);\n",
              "      filter: drop-shadow(0px 1px 2px rgba(0, 0, 0, 0.3));\n",
              "      fill: #FFFFFF;\n",
              "    }\n",
              "  </style>\n",
              "\n",
              "      <script>\n",
              "        const buttonEl =\n",
              "          document.querySelector('#df-7cd124da-5532-4660-8b9c-1f0dbde41a3d button.colab-df-convert');\n",
              "        buttonEl.style.display =\n",
              "          google.colab.kernel.accessAllowed ? 'block' : 'none';\n",
              "\n",
              "        async function convertToInteractive(key) {\n",
              "          const element = document.querySelector('#df-7cd124da-5532-4660-8b9c-1f0dbde41a3d');\n",
              "          const dataTable =\n",
              "            await google.colab.kernel.invokeFunction('convertToInteractive',\n",
              "                                                     [key], {});\n",
              "          if (!dataTable) return;\n",
              "\n",
              "          const docLinkHtml = 'Like what you see? Visit the ' +\n",
              "            '<a target=\"_blank\" href=https://colab.research.google.com/notebooks/data_table.ipynb>data table notebook</a>'\n",
              "            + ' to learn more about interactive tables.';\n",
              "          element.innerHTML = '';\n",
              "          dataTable['output_type'] = 'display_data';\n",
              "          await google.colab.output.renderOutput(dataTable, element);\n",
              "          const docLink = document.createElement('div');\n",
              "          docLink.innerHTML = docLinkHtml;\n",
              "          element.appendChild(docLink);\n",
              "        }\n",
              "      </script>\n",
              "    </div>\n",
              "  </div>\n",
              "  "
            ]
          },
          "metadata": {},
          "execution_count": 771
        }
      ]
    },
    {
      "cell_type": "markdown",
      "source": [
        "\n",
        "При помощи train_test_split() разбейте набор данных на обучающую и тестовую выборки с параметрами test_size=0.2, random_state=11. Используйте стратификацию по колонке Species. Стратификация позволит сохранить доли представленных объектов (по представителям типов рыб) в тренировочной и тестовой выборках."
      ],
      "metadata": {
        "id": "Ao9DMSZP5sVM"
      }
    },
    {
      "cell_type": "code",
      "source": [
        "random_state_value = 11"
      ],
      "metadata": {
        "id": "-xon3EmsA72y"
      },
      "execution_count": 772,
      "outputs": []
    },
    {
      "cell_type": "code",
      "source": [
        "from sklearn.model_selection import train_test_split\n",
        "new_data_frame = data_frame.drop(\"Species\", axis=1)\n",
        "X = new_data_frame.drop(\"Weight\", axis=1)\n",
        "Y = new_data_frame[\"Weight\"]\n",
        "\n",
        "x, x_test, y, y_test = train_test_split(X, Y, test_size=0.2, random_state=random_state_value, stratify=data_frame[\"Species\"])"
      ],
      "metadata": {
        "id": "osLCLshP06I1"
      },
      "execution_count": 773,
      "outputs": []
    },
    {
      "cell_type": "markdown",
      "source": [
        "Вычислите выборочное среднее колонки Width полученной тренировочной выборки."
      ],
      "metadata": {
        "id": "Z7TO2o381tOV"
      }
    },
    {
      "cell_type": "code",
      "source": [
        "x.Width.mean()"
      ],
      "metadata": {
        "colab": {
          "base_uri": "https://localhost:8080/"
        },
        "id": "iDjHxNHx1trf",
        "outputId": "658c94df-7451-4c29-a6e4-cc95f8177c82"
      },
      "execution_count": 774,
      "outputs": [
        {
          "output_type": "execute_result",
          "data": {
            "text/plain": [
              "4.498425263157893"
            ]
          },
          "metadata": {},
          "execution_count": 774
        }
      ]
    },
    {
      "cell_type": "markdown",
      "source": [
        "####1. Построение базовой модели\n",
        "\n",
        "Избавьтесь от категориальных признаков и обучите модель линейной регрессии (LinearRegression()) на тренировочном наборе данных. Выполните предсказания для тестового набора данных. \n",
        "Оцените модель при помощи метрики r2_score().\n",
        "\n",
        "Введите r2_score() полученной модели."
      ],
      "metadata": {
        "id": "dPnQajcN13xF"
      }
    },
    {
      "cell_type": "code",
      "source": [
        "from sklearn.metrics import r2_score\n",
        "pred = LinearRegression().fit(x, y).predict(x_test)\n",
        "r2_score(y_test, pred)\n"
      ],
      "metadata": {
        "colab": {
          "base_uri": "https://localhost:8080/"
        },
        "id": "fOCiTgqx14ZL",
        "outputId": "39ad118c-d818-49d6-e663-e8ddd0f82be9"
      },
      "execution_count": 775,
      "outputs": [
        {
          "output_type": "execute_result",
          "data": {
            "text/plain": [
              "0.8244231342772975"
            ]
          },
          "metadata": {},
          "execution_count": 775
        }
      ]
    },
    {
      "cell_type": "markdown",
      "source": [
        "####2. Добавление предварительной обработки признаков."
      ],
      "metadata": {
        "id": "GG3Z9MSF6Pfd"
      }
    },
    {
      "cell_type": "markdown",
      "source": [
        "***Использование PCA.***\n"
      ],
      "metadata": {
        "id": "7NU5nDaU6Rps"
      }
    },
    {
      "cell_type": "markdown",
      "source": [
        "Перечислите через запятую и пробел тройку отбрасываемых наиболее коррелированных признаков."
      ],
      "metadata": {
        "id": "INQQb7zjgB4K"
      }
    },
    {
      "cell_type": "code",
      "source": [
        "from sklearn.decomposition import PCA\n",
        "import seaborn as sns\n",
        "sns.heatmap(new_data_frame.corr(), annot=True)\n",
        "new_data_frame.cov()"
      ],
      "metadata": {
        "colab": {
          "base_uri": "https://localhost:8080/",
          "height": 316
        },
        "id": "vdy1K34w6avT",
        "outputId": "d16a20df-49d2-4e66-a9c5-8fb0b249e26b"
      },
      "execution_count": 776,
      "outputs": [
        {
          "output_type": "execute_result",
          "data": {
            "text/plain": [
              "                Weight      Length1      Length2      Length3       Height  \\\n",
              "Weight   114808.650244  2922.717935  3146.487628  3417.734719  1069.503723   \n",
              "Length1    2922.717935    92.409805    99.038974   105.901792    25.298180   \n",
              "Length2    3146.487628    99.038974   106.259147   113.838522    27.831578   \n",
              "Length3    3417.734719   105.901792   113.838522   123.567366    33.145370   \n",
              "Height     1069.503723    25.298180    27.831578    33.145370    17.908689   \n",
              "Width       509.955419    13.912350    15.033419    16.281676     5.566149   \n",
              "\n",
              "              Width  \n",
              "Weight   509.955419  \n",
              "Length1   13.912350  \n",
              "Length2   15.033419  \n",
              "Length3   16.281676  \n",
              "Height     5.566149  \n",
              "Width      2.818355  "
            ],
            "text/html": [
              "\n",
              "  <div id=\"df-d1a8ae93-ac0a-4a0b-a0e9-ab5a25608e21\">\n",
              "    <div class=\"colab-df-container\">\n",
              "      <div>\n",
              "<style scoped>\n",
              "    .dataframe tbody tr th:only-of-type {\n",
              "        vertical-align: middle;\n",
              "    }\n",
              "\n",
              "    .dataframe tbody tr th {\n",
              "        vertical-align: top;\n",
              "    }\n",
              "\n",
              "    .dataframe thead th {\n",
              "        text-align: right;\n",
              "    }\n",
              "</style>\n",
              "<table border=\"1\" class=\"dataframe\">\n",
              "  <thead>\n",
              "    <tr style=\"text-align: right;\">\n",
              "      <th></th>\n",
              "      <th>Weight</th>\n",
              "      <th>Length1</th>\n",
              "      <th>Length2</th>\n",
              "      <th>Length3</th>\n",
              "      <th>Height</th>\n",
              "      <th>Width</th>\n",
              "    </tr>\n",
              "  </thead>\n",
              "  <tbody>\n",
              "    <tr>\n",
              "      <th>Weight</th>\n",
              "      <td>114808.650244</td>\n",
              "      <td>2922.717935</td>\n",
              "      <td>3146.487628</td>\n",
              "      <td>3417.734719</td>\n",
              "      <td>1069.503723</td>\n",
              "      <td>509.955419</td>\n",
              "    </tr>\n",
              "    <tr>\n",
              "      <th>Length1</th>\n",
              "      <td>2922.717935</td>\n",
              "      <td>92.409805</td>\n",
              "      <td>99.038974</td>\n",
              "      <td>105.901792</td>\n",
              "      <td>25.298180</td>\n",
              "      <td>13.912350</td>\n",
              "    </tr>\n",
              "    <tr>\n",
              "      <th>Length2</th>\n",
              "      <td>3146.487628</td>\n",
              "      <td>99.038974</td>\n",
              "      <td>106.259147</td>\n",
              "      <td>113.838522</td>\n",
              "      <td>27.831578</td>\n",
              "      <td>15.033419</td>\n",
              "    </tr>\n",
              "    <tr>\n",
              "      <th>Length3</th>\n",
              "      <td>3417.734719</td>\n",
              "      <td>105.901792</td>\n",
              "      <td>113.838522</td>\n",
              "      <td>123.567366</td>\n",
              "      <td>33.145370</td>\n",
              "      <td>16.281676</td>\n",
              "    </tr>\n",
              "    <tr>\n",
              "      <th>Height</th>\n",
              "      <td>1069.503723</td>\n",
              "      <td>25.298180</td>\n",
              "      <td>27.831578</td>\n",
              "      <td>33.145370</td>\n",
              "      <td>17.908689</td>\n",
              "      <td>5.566149</td>\n",
              "    </tr>\n",
              "    <tr>\n",
              "      <th>Width</th>\n",
              "      <td>509.955419</td>\n",
              "      <td>13.912350</td>\n",
              "      <td>15.033419</td>\n",
              "      <td>16.281676</td>\n",
              "      <td>5.566149</td>\n",
              "      <td>2.818355</td>\n",
              "    </tr>\n",
              "  </tbody>\n",
              "</table>\n",
              "</div>\n",
              "      <button class=\"colab-df-convert\" onclick=\"convertToInteractive('df-d1a8ae93-ac0a-4a0b-a0e9-ab5a25608e21')\"\n",
              "              title=\"Convert this dataframe to an interactive table.\"\n",
              "              style=\"display:none;\">\n",
              "        \n",
              "  <svg xmlns=\"http://www.w3.org/2000/svg\" height=\"24px\"viewBox=\"0 0 24 24\"\n",
              "       width=\"24px\">\n",
              "    <path d=\"M0 0h24v24H0V0z\" fill=\"none\"/>\n",
              "    <path d=\"M18.56 5.44l.94 2.06.94-2.06 2.06-.94-2.06-.94-.94-2.06-.94 2.06-2.06.94zm-11 1L8.5 8.5l.94-2.06 2.06-.94-2.06-.94L8.5 2.5l-.94 2.06-2.06.94zm10 10l.94 2.06.94-2.06 2.06-.94-2.06-.94-.94-2.06-.94 2.06-2.06.94z\"/><path d=\"M17.41 7.96l-1.37-1.37c-.4-.4-.92-.59-1.43-.59-.52 0-1.04.2-1.43.59L10.3 9.45l-7.72 7.72c-.78.78-.78 2.05 0 2.83L4 21.41c.39.39.9.59 1.41.59.51 0 1.02-.2 1.41-.59l7.78-7.78 2.81-2.81c.8-.78.8-2.07 0-2.86zM5.41 20L4 18.59l7.72-7.72 1.47 1.35L5.41 20z\"/>\n",
              "  </svg>\n",
              "      </button>\n",
              "      \n",
              "  <style>\n",
              "    .colab-df-container {\n",
              "      display:flex;\n",
              "      flex-wrap:wrap;\n",
              "      gap: 12px;\n",
              "    }\n",
              "\n",
              "    .colab-df-convert {\n",
              "      background-color: #E8F0FE;\n",
              "      border: none;\n",
              "      border-radius: 50%;\n",
              "      cursor: pointer;\n",
              "      display: none;\n",
              "      fill: #1967D2;\n",
              "      height: 32px;\n",
              "      padding: 0 0 0 0;\n",
              "      width: 32px;\n",
              "    }\n",
              "\n",
              "    .colab-df-convert:hover {\n",
              "      background-color: #E2EBFA;\n",
              "      box-shadow: 0px 1px 2px rgba(60, 64, 67, 0.3), 0px 1px 3px 1px rgba(60, 64, 67, 0.15);\n",
              "      fill: #174EA6;\n",
              "    }\n",
              "\n",
              "    [theme=dark] .colab-df-convert {\n",
              "      background-color: #3B4455;\n",
              "      fill: #D2E3FC;\n",
              "    }\n",
              "\n",
              "    [theme=dark] .colab-df-convert:hover {\n",
              "      background-color: #434B5C;\n",
              "      box-shadow: 0px 1px 3px 1px rgba(0, 0, 0, 0.15);\n",
              "      filter: drop-shadow(0px 1px 2px rgba(0, 0, 0, 0.3));\n",
              "      fill: #FFFFFF;\n",
              "    }\n",
              "  </style>\n",
              "\n",
              "      <script>\n",
              "        const buttonEl =\n",
              "          document.querySelector('#df-d1a8ae93-ac0a-4a0b-a0e9-ab5a25608e21 button.colab-df-convert');\n",
              "        buttonEl.style.display =\n",
              "          google.colab.kernel.accessAllowed ? 'block' : 'none';\n",
              "\n",
              "        async function convertToInteractive(key) {\n",
              "          const element = document.querySelector('#df-d1a8ae93-ac0a-4a0b-a0e9-ab5a25608e21');\n",
              "          const dataTable =\n",
              "            await google.colab.kernel.invokeFunction('convertToInteractive',\n",
              "                                                     [key], {});\n",
              "          if (!dataTable) return;\n",
              "\n",
              "          const docLinkHtml = 'Like what you see? Visit the ' +\n",
              "            '<a target=\"_blank\" href=https://colab.research.google.com/notebooks/data_table.ipynb>data table notebook</a>'\n",
              "            + ' to learn more about interactive tables.';\n",
              "          element.innerHTML = '';\n",
              "          dataTable['output_type'] = 'display_data';\n",
              "          await google.colab.output.renderOutput(dataTable, element);\n",
              "          const docLink = document.createElement('div');\n",
              "          docLink.innerHTML = docLinkHtml;\n",
              "          element.appendChild(docLink);\n",
              "        }\n",
              "      </script>\n",
              "    </div>\n",
              "  </div>\n",
              "  "
            ]
          },
          "metadata": {},
          "execution_count": 776
        },
        {
          "output_type": "display_data",
          "data": {
            "text/plain": [
              "<Figure size 640x480 with 2 Axes>"
            ],
            "image/png": "[encoded data removed]"
          },
          "metadata": {}
        }
      ]
    },
    {
      "cell_type": "markdown",
      "source": [
        "В этом случае тройка выглядит следующим образом: \n",
        "correlated_features = [\"Length1\", \"Length2\", \"Length3\"]"
      ],
      "metadata": {
        "id": "Z09MF5RMHuMY"
      }
    },
    {
      "cell_type": "code",
      "source": [
        "correlated_features = ['Length1', 'Length2', 'Length3']\n",
        "x_fixed = x.copy()\n"
      ],
      "metadata": {
        "id": "kv9ztoM9IFMW"
      },
      "execution_count": 777,
      "outputs": []
    },
    {
      "cell_type": "markdown",
      "source": [
        "Обучите модель PCA для трех наиболее коррелированных признаков. Введите долю объясненной дисперсии при использовании только первой главной компоненты."
      ],
      "metadata": {
        "id": "E0tx6rNeIAzb"
      }
    },
    {
      "cell_type": "code",
      "source": [
        "pca = PCA(n_components=1, svd_solver='full')\n",
        "pca.fit(x[correlated_features])\n",
        "pca.explained_variance_ratio_"
      ],
      "metadata": {
        "colab": {
          "base_uri": "https://localhost:8080/"
        },
        "id": "2N3xtwMTJMN6",
        "outputId": "3f606e11-64a6-4425-e4a8-0b72e4fcd836"
      },
      "execution_count": 778,
      "outputs": [
        {
          "output_type": "execute_result",
          "data": {
            "text/plain": [
              "array([0.99609378])"
            ]
          },
          "metadata": {},
          "execution_count": 778
        }
      ]
    },
    {
      "cell_type": "markdown",
      "source": [
        "Замените тройку наиболее коррелированных признаков на полученный признак Lengths, значения которого совпадают со счетами первой главной компоненты."
      ],
      "metadata": {
        "id": "4YLyfwczUwMR"
      }
    },
    {
      "cell_type": "code",
      "source": [
        "x['Lengths'] = pca.transform(x[correlated_features])\n",
        "x_test['Lengths'] = pca.transform(x_test[correlated_features])\n",
        "x = x.drop(correlated_features, axis = 1)\n",
        "x_test = x_test.drop(correlated_features, axis = 1)\n",
        "x"
      ],
      "metadata": {
        "colab": {
          "base_uri": "https://localhost:8080/",
          "height": 483
        },
        "id": "pWAH-_CXclX2",
        "outputId": "e317f285-e642-44e4-8920-b9c475e03514"
      },
      "execution_count": 779,
      "outputs": [
        {
          "output_type": "execute_result",
          "data": {
            "text/plain": [
              "      Height   Width    Lengths\n",
              "97    7.0866  3.9060  -5.647250\n",
              "37   12.6040  8.1420  24.959486\n",
              "21   11.7300  7.2250  19.068600\n",
              "40   10.3458  3.6636  -9.496090\n",
              "116  12.3540  6.5250  19.848407\n",
              "..       ...     ...        ...\n",
              "8     8.1454  4.2485  -3.765734\n",
              "78    7.7920  4.8700  29.673332\n",
              "95    6.5772  2.3142 -22.699698\n",
              "58   10.8810  6.8640  13.284734\n",
              "64   10.0300  6.0180   6.189483\n",
              "\n",
              "[95 rows x 3 columns]"
            ],
            "text/html": [
              "\n",
              "  <div id=\"df-2d79c483-27d8-4b49-8d10-34af1e916dce\">\n",
              "    <div class=\"colab-df-container\">\n",
              "      <div>\n",
              "<style scoped>\n",
              "    .dataframe tbody tr th:only-of-type {\n",
              "        vertical-align: middle;\n",
              "    }\n",
              "\n",
              "    .dataframe tbody tr th {\n",
              "        vertical-align: top;\n",
              "    }\n",
              "\n",
              "    .dataframe thead th {\n",
              "        text-align: right;\n",
              "    }\n",
              "</style>\n",
              "<table border=\"1\" class=\"dataframe\">\n",
              "  <thead>\n",
              "    <tr style=\"text-align: right;\">\n",
              "      <th></th>\n",
              "      <th>Height</th>\n",
              "      <th>Width</th>\n",
              "      <th>Lengths</th>\n",
              "    </tr>\n",
              "  </thead>\n",
              "  <tbody>\n",
              "    <tr>\n",
              "      <th>97</th>\n",
              "      <td>7.0866</td>\n",
              "      <td>3.9060</td>\n",
              "      <td>-5.647250</td>\n",
              "    </tr>\n",
              "    <tr>\n",
              "      <th>37</th>\n",
              "      <td>12.6040</td>\n",
              "      <td>8.1420</td>\n",
              "      <td>24.959486</td>\n",
              "    </tr>\n",
              "    <tr>\n",
              "      <th>21</th>\n",
              "      <td>11.7300</td>\n",
              "      <td>7.2250</td>\n",
              "      <td>19.068600</td>\n",
              "    </tr>\n",
              "    <tr>\n",
              "      <th>40</th>\n",
              "      <td>10.3458</td>\n",
              "      <td>3.6636</td>\n",
              "      <td>-9.496090</td>\n",
              "    </tr>\n",
              "    <tr>\n",
              "      <th>116</th>\n",
              "      <td>12.3540</td>\n",
              "      <td>6.5250</td>\n",
              "      <td>19.848407</td>\n",
              "    </tr>\n",
              "    <tr>\n",
              "      <th>...</th>\n",
              "      <td>...</td>\n",
              "      <td>...</td>\n",
              "      <td>...</td>\n",
              "    </tr>\n",
              "    <tr>\n",
              "      <th>8</th>\n",
              "      <td>8.1454</td>\n",
              "      <td>4.2485</td>\n",
              "      <td>-3.765734</td>\n",
              "    </tr>\n",
              "    <tr>\n",
              "      <th>78</th>\n",
              "      <td>7.7920</td>\n",
              "      <td>4.8700</td>\n",
              "      <td>29.673332</td>\n",
              "    </tr>\n",
              "    <tr>\n",
              "      <th>95</th>\n",
              "      <td>6.5772</td>\n",
              "      <td>2.3142</td>\n",
              "      <td>-22.699698</td>\n",
              "    </tr>\n",
              "    <tr>\n",
              "      <th>58</th>\n",
              "      <td>10.8810</td>\n",
              "      <td>6.8640</td>\n",
              "      <td>13.284734</td>\n",
              "    </tr>\n",
              "    <tr>\n",
              "      <th>64</th>\n",
              "      <td>10.0300</td>\n",
              "      <td>6.0180</td>\n",
              "      <td>6.189483</td>\n",
              "    </tr>\n",
              "  </tbody>\n",
              "</table>\n",
              "<p>95 rows × 3 columns</p>\n",
              "</div>\n",
              "      <button class=\"colab-df-convert\" onclick=\"convertToInteractive('df-2d79c483-27d8-4b49-8d10-34af1e916dce')\"\n",
              "              title=\"Convert this dataframe to an interactive table.\"\n",
              "              style=\"display:none;\">\n",
              "        \n",
              "  <svg xmlns=\"http://www.w3.org/2000/svg\" height=\"24px\"viewBox=\"0 0 24 24\"\n",
              "       width=\"24px\">\n",
              "    <path d=\"M0 0h24v24H0V0z\" fill=\"none\"/>\n",
              "    <path d=\"M18.56 5.44l.94 2.06.94-2.06 2.06-.94-2.06-.94-.94-2.06-.94 2.06-2.06.94zm-11 1L8.5 8.5l.94-2.06 2.06-.94-2.06-.94L8.5 2.5l-.94 2.06-2.06.94zm10 10l.94 2.06.94-2.06 2.06-.94-2.06-.94-.94-2.06-.94 2.06-2.06.94z\"/><path d=\"M17.41 7.96l-1.37-1.37c-.4-.4-.92-.59-1.43-.59-.52 0-1.04.2-1.43.59L10.3 9.45l-7.72 7.72c-.78.78-.78 2.05 0 2.83L4 21.41c.39.39.9.59 1.41.59.51 0 1.02-.2 1.41-.59l7.78-7.78 2.81-2.81c.8-.78.8-2.07 0-2.86zM5.41 20L4 18.59l7.72-7.72 1.47 1.35L5.41 20z\"/>\n",
              "  </svg>\n",
              "      </button>\n",
              "      \n",
              "  <style>\n",
              "    .colab-df-container {\n",
              "      display:flex;\n",
              "      flex-wrap:wrap;\n",
              "      gap: 12px;\n",
              "    }\n",
              "\n",
              "    .colab-df-convert {\n",
              "      background-color: #E8F0FE;\n",
              "      border: none;\n",
              "      border-radius: 50%;\n",
              "      cursor: pointer;\n",
              "      display: none;\n",
              "      fill: #1967D2;\n",
              "      height: 32px;\n",
              "      padding: 0 0 0 0;\n",
              "      width: 32px;\n",
              "    }\n",
              "\n",
              "    .colab-df-convert:hover {\n",
              "      background-color: #E2EBFA;\n",
              "      box-shadow: 0px 1px 2px rgba(60, 64, 67, 0.3), 0px 1px 3px 1px rgba(60, 64, 67, 0.15);\n",
              "      fill: #174EA6;\n",
              "    }\n",
              "\n",
              "    [theme=dark] .colab-df-convert {\n",
              "      background-color: #3B4455;\n",
              "      fill: #D2E3FC;\n",
              "    }\n",
              "\n",
              "    [theme=dark] .colab-df-convert:hover {\n",
              "      background-color: #434B5C;\n",
              "      box-shadow: 0px 1px 3px 1px rgba(0, 0, 0, 0.15);\n",
              "      filter: drop-shadow(0px 1px 2px rgba(0, 0, 0, 0.3));\n",
              "      fill: #FFFFFF;\n",
              "    }\n",
              "  </style>\n",
              "\n",
              "      <script>\n",
              "        const buttonEl =\n",
              "          document.querySelector('#df-2d79c483-27d8-4b49-8d10-34af1e916dce button.colab-df-convert');\n",
              "        buttonEl.style.display =\n",
              "          google.colab.kernel.accessAllowed ? 'block' : 'none';\n",
              "\n",
              "        async function convertToInteractive(key) {\n",
              "          const element = document.querySelector('#df-2d79c483-27d8-4b49-8d10-34af1e916dce');\n",
              "          const dataTable =\n",
              "            await google.colab.kernel.invokeFunction('convertToInteractive',\n",
              "                                                     [key], {});\n",
              "          if (!dataTable) return;\n",
              "\n",
              "          const docLinkHtml = 'Like what you see? Visit the ' +\n",
              "            '<a target=\"_blank\" href=https://colab.research.google.com/notebooks/data_table.ipynb>data table notebook</a>'\n",
              "            + ' to learn more about interactive tables.';\n",
              "          element.innerHTML = '';\n",
              "          dataTable['output_type'] = 'display_data';\n",
              "          await google.colab.output.renderOutput(dataTable, element);\n",
              "          const docLink = document.createElement('div');\n",
              "          docLink.innerHTML = docLinkHtml;\n",
              "          element.appendChild(docLink);\n",
              "        }\n",
              "      </script>\n",
              "    </div>\n",
              "  </div>\n",
              "  "
            ]
          },
          "metadata": {},
          "execution_count": 779
        }
      ]
    },
    {
      "cell_type": "markdown",
      "source": [
        "Обучите модель линейной регрессии. Введите r2_score() полученной модели."
      ],
      "metadata": {
        "id": "CCdmbzrmWO41"
      }
    },
    {
      "cell_type": "code",
      "source": [
        "reg = reg.fit(x, y)\n",
        "pred = reg.predict(x_test)\n",
        "r2_score(y_test, pred)"
      ],
      "metadata": {
        "colab": {
          "base_uri": "https://localhost:8080/"
        },
        "id": "Me5S6fxid8sI",
        "outputId": "e9c73207-9681-4315-a476-125606002b35"
      },
      "execution_count": 780,
      "outputs": [
        {
          "output_type": "execute_result",
          "data": {
            "text/plain": [
              "0.8207366051929542"
            ]
          },
          "metadata": {},
          "execution_count": 780
        }
      ]
    },
    {
      "cell_type": "markdown",
      "source": [
        "***Модификация признаков.***"
      ],
      "metadata": {
        "id": "3I7X3nlFffkU"
      }
    },
    {
      "cell_type": "markdown",
      "source": [
        "Используя полученный на предыдущем этапе набор данных, возведите в куб значения признаков Width, Height, Lengths. Введите выборочное среднее колонки Width тренировочного набора данных после возведения в куб."
      ],
      "metadata": {
        "id": "-KkCL17LiqeX"
      }
    },
    {
      "cell_type": "code",
      "source": [
        "x_in_cube = x**3\n",
        "x_test_in_cube = x_test**3\n",
        "x_in_cube['Width'].mean()"
      ],
      "metadata": {
        "colab": {
          "base_uri": "https://localhost:8080/"
        },
        "id": "wMPH-qlIfb43",
        "outputId": "c4b8466f-ef5d-4a1a-a82f-2e157bcf4f4e"
      },
      "execution_count": 781,
      "outputs": [
        {
          "output_type": "execute_result",
          "data": {
            "text/plain": [
              "129.56198433393484"
            ]
          },
          "metadata": {},
          "execution_count": 781
        }
      ]
    },
    {
      "cell_type": "markdown",
      "source": [
        "Изображения, соответствующие зависимости Weight от Width до преобразования и после."
      ],
      "metadata": {
        "id": "BHUSwU_2i1mr"
      }
    },
    {
      "cell_type": "code",
      "source": [
        "sns.scatterplot(x=x['Width'], y=y, hue=data_frame['Species'] )"
      ],
      "metadata": {
        "colab": {
          "base_uri": "https://localhost:8080/",
          "height": 105
        },
        "id": "flhFni_xi2PP",
        "outputId": "127eff83-6367-45d9-a0d0-5e576b555461"
      },
      "execution_count": 782,
      "outputs": [
        {
          "output_type": "execute_result",
          "data": {
            "text/plain": [
              "<Axes: xlabel='Width', ylabel='Weight'>"
            ]
          },
          "metadata": {},
          "execution_count": 782
        },
        {
          "output_type": "display_data",
          "data": {
            "text/plain": [
              "<Figure size 640x480 with 1 Axes>"
            ],
            "image/png": "[encoded data removed]"
          },
          "metadata": {}
        }
      ]
    },
    {
      "cell_type": "code",
      "source": [
        "sns.scatterplot(x=x_in_cube['Width'], y=y, hue=data_frame['Species'] )"
      ],
      "metadata": {
        "colab": {
          "base_uri": "https://localhost:8080/",
          "height": 105
        },
        "id": "sYWv_Spmjgsw",
        "outputId": "4974f42a-a434-4182-ece9-5868ebcae86a"
      },
      "execution_count": 783,
      "outputs": [
        {
          "output_type": "execute_result",
          "data": {
            "text/plain": [
              "<Axes: xlabel='Width', ylabel='Weight'>"
            ]
          },
          "metadata": {},
          "execution_count": 783
        },
        {
          "output_type": "display_data",
          "data": {
            "text/plain": [
              "<Figure size 640x480 with 1 Axes>"
            ],
            "image/png": "[encoded data removed]"
          },
          "metadata": {}
        }
      ]
    },
    {
      "cell_type": "markdown",
      "source": [
        "Обучите модель линейнной регрессии. Введите r2_score() полученной модели."
      ],
      "metadata": {
        "id": "5ph1IuaDjxM-"
      }
    },
    {
      "cell_type": "code",
      "source": [
        "reg = LinearRegression().fit(x_in_cube, y)\n",
        "pred = reg.predict(x_test_in_cube)\n",
        "r2_score(y_test, pred)"
      ],
      "metadata": {
        "colab": {
          "base_uri": "https://localhost:8080/"
        },
        "id": "XgvAn1wtjxsh",
        "outputId": "8e58caba-69ed-4912-e3cc-282663ce7b9d"
      },
      "execution_count": 784,
      "outputs": [
        {
          "output_type": "execute_result",
          "data": {
            "text/plain": [
              "0.9701660036773103"
            ]
          },
          "metadata": {},
          "execution_count": 784
        }
      ]
    },
    {
      "cell_type": "markdown",
      "source": [
        "***Добавление категориальных признаков.***"
      ],
      "metadata": {
        "id": "xrvV852ekxdj"
      }
    },
    {
      "cell_type": "markdown",
      "source": [
        "Добавьте к набору данных, полученному на предыдущем этапе, ранее исключенные категориальные признаки, предварительно произведя one-hot кодирование при помощи pd.get_dummies()."
      ],
      "metadata": {
        "id": "xG195bbztOiF"
      }
    },
    {
      "cell_type": "code",
      "source": [
        "X = data_frame.drop(\"Weight\", axis=1)\n",
        "Y = data_frame[\"Weight\"]\n",
        "\n",
        "x, x_test, y, y_test = train_test_split(X, Y, test_size=0.2, random_state=random_state_value, stratify=data_frame[\"Species\"])\n",
        "x_species = x[\"Species\"]\n",
        "x_test_species = x_test[\"Species\"]\n",
        "\n",
        "\n",
        "x_in_cube_one_hot = x_in_cube.join(pd.get_dummies(x_species))\n",
        "x_test_in_cube_one_hot = x_test_in_cube.join(pd.get_dummies(x_test_species))"
      ],
      "metadata": {
        "id": "AlkLlNbkkzeM"
      },
      "execution_count": 785,
      "outputs": []
    },
    {
      "cell_type": "markdown",
      "source": [
        "Обучите модель регрессии. Введите r2_score() полученной модели."
      ],
      "metadata": {
        "id": "lo7MLsDgtPEf"
      }
    },
    {
      "cell_type": "code",
      "source": [
        "pred = reg.fit(x_in_cube_one_hot, y).predict(x_test_in_cube_one_hot)\n",
        "r2_score(y_test, pred)"
      ],
      "metadata": {
        "colab": {
          "base_uri": "https://localhost:8080/"
        },
        "id": "cqQ16KFptRzK",
        "outputId": "03767386-d805-4666-c560-42be2bef8bc7"
      },
      "execution_count": 786,
      "outputs": [
        {
          "output_type": "execute_result",
          "data": {
            "text/plain": [
              "0.9679628452773985"
            ]
          },
          "metadata": {},
          "execution_count": 786
        }
      ]
    },
    {
      "cell_type": "markdown",
      "source": [
        "Закодируйте категориальные признаки при помощи pd.get_dummies(drop_first=True)."
      ],
      "metadata": {
        "id": "P8NdNOwetSTM"
      }
    },
    {
      "cell_type": "code",
      "source": [
        "x_in_cube_one_hot_drop_first = x_in_cube.join(pd.get_dummies(x_species, drop_first=True))\n",
        "x_test_in_cube_one_hot_drop_first = x_test_in_cube.join(pd.get_dummies(x_test_species, drop_first=True))"
      ],
      "metadata": {
        "id": "2PZcntmmtcje"
      },
      "execution_count": 787,
      "outputs": []
    },
    {
      "cell_type": "markdown",
      "source": [
        "Введите r2_score() модели после избавления от коррелированности."
      ],
      "metadata": {
        "id": "QugrhINotc1N"
      }
    },
    {
      "cell_type": "code",
      "source": [
        "pred = reg.fit(x_in_cube_one_hot_drop_first, y).predict(x_test_in_cube_one_hot_drop_first)\n",
        "r2_score(y_test, pred)"
      ],
      "metadata": {
        "colab": {
          "base_uri": "https://localhost:8080/"
        },
        "id": "HBRW1iMiuMea",
        "outputId": "8403dfc8-2c89-4613-b7b3-13e987ddfd5a"
      },
      "execution_count": 788,
      "outputs": [
        {
          "output_type": "execute_result",
          "data": {
            "text/plain": [
              "0.9679628452773898"
            ]
          },
          "metadata": {},
          "execution_count": 788
        }
      ]
    },
    {
      "cell_type": "markdown",
      "source": [
        "###Задача 3"
      ],
      "metadata": {
        "id": "8cU0bebmCHe0"
      }
    },
    {
      "cell_type": "markdown",
      "source": [
        "Используя весь датасет из предыдущего задания как обучающий, выполните предсказания для следующего набора данных (https://courses.openedu.ru/assets/courseware/v1/33b24e589714e963ea7081912668c93d/asset-v1:ITMOUniversity+MLDATAN+spring_2023_ITMO_bac+type@asset+block/fish_reserved.csv). Для успешного выполнения задания необходимо, чтобы ваш результат превысил пороговое значение, равное 0.98. В качестве метрики используется r2_score."
      ],
      "metadata": {
        "id": "umya50pUCLob"
      }
    },
    {
      "cell_type": "code",
      "source": [
        "from sklearn.model_selection import train_test_split\n",
        "x = data_frame.drop(\"Weight\", axis=1)\n",
        "y = data_frame[\"Weight\"]\n",
        "x_species = x[\"Species\"]\n",
        "\n",
        "test_df = pd.read_csv(\"https://courses.openedu.ru/assets/courseware/v1/33b24e589714e963ea7081912668c93d/asset-v1:ITMOUniversity+MLDATAN+spring_2023_ITMO_bac+type@asset+block/fish_reserved.csv\")\n",
        "x_test = test_df\n",
        "x_test_spices = x_test[\"Species\"]\n",
        "x = x.drop(\"Species\", axis=1)\n",
        "x_test = x_test.drop(\"Species\", axis=1)\n",
        "\n",
        "\n",
        "x_in_cube = x**3\n",
        "x_test_in_cube = x_test**3\n",
        "\n",
        "\n",
        "\n",
        "reg = LinearRegression().fit(x_in_cube, y)\n",
        "pred = reg.predict(x_test_in_cube)\n",
        "pred"
      ],
      "metadata": {
        "colab": {
          "base_uri": "https://localhost:8080/"
        },
        "id": "VYMPDGT4Cm4N",
        "outputId": "ae492751-af78-42bb-df12-e4ed73068cf2"
      },
      "execution_count": 789,
      "outputs": [
        {
          "output_type": "execute_result",
          "data": {
            "text/plain": [
              "array([ 116.13958959,  121.09100633,   85.05844589,  110.53741817,\n",
              "         86.26816447,  158.37190267,   60.38379001,  536.00402273,\n",
              "        395.87203138,  123.78191529, 1827.47451205,  158.49720347,\n",
              "        627.26572214, 1085.86942862,   35.8288348 ,  606.29580347,\n",
              "        133.25451084,  807.75274166, 1398.16595075,   85.30337754,\n",
              "        591.8721016 ,  196.54465434,   81.7781292 ,  156.43159457,\n",
              "        350.58923309,  590.54188771,  277.05633793,   26.21268469,\n",
              "         37.39281599,   21.54240282, 1001.17770307,  477.89521046,\n",
              "        542.29161919,  151.53091357,   26.07114895,   87.52795656,\n",
              "        122.12694929,  932.88325856,  744.70163842,  130.42604977])"
            ]
          },
          "metadata": {},
          "execution_count": 789
        }
      ]
    }
  ]
}